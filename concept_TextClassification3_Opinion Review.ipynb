{
  "cells": [
    {
      "cell_type": "markdown",
      "metadata": {
        "id": "view-in-github",
        "colab_type": "text"
      },
      "source": [
        "<a href=\"https://colab.research.google.com/github/snghynn/summ/blob/main/%ED%8C%8C%EB%A8%B8%EC%99%84_ch8.ipynb\" target=\"_parent\"><img src=\"https://colab.research.google.com/assets/colab-badge.svg\" alt=\"Open In Colab\"/></a>"
      ]
    },
    {
      "cell_type": "markdown",
      "id": "79181e2e",
      "metadata": {
        "id": "79181e2e"
      },
      "source": [
        "## 8.7 문서 군집화 소개와 실습(Opinion Review dataset)\n",
        "- 문서 군집화: 비슷한 텍스트 구성의 문서를 군집화\n",
        "- 동일한 군집에 속하는 문서를 같은 카테고리 소속으로 분류할 수 있으므로 텍스트 분류 기반의 문서 분류와 유사\n",
        "\n",
        "### Opinion Review dataset을 이용한 문서 군집화 수행하기"
      ]
    },
    {
      "cell_type": "code",
      "execution_count": null,
      "id": "cb1af684",
      "metadata": {
        "id": "cb1af684",
        "outputId": "998f65d3-2fc8-400b-cab7-2894eeb16085"
      },
      "outputs": [
        {
          "data": {
            "text/html": [
              "<div>\n",
              "<style scoped>\n",
              "    .dataframe tbody tr th:only-of-type {\n",
              "        vertical-align: middle;\n",
              "    }\n",
              "\n",
              "    .dataframe tbody tr th {\n",
              "        vertical-align: top;\n",
              "    }\n",
              "\n",
              "    .dataframe thead th {\n",
              "        text-align: right;\n",
              "    }\n",
              "</style>\n",
              "<table border=\"1\" class=\"dataframe\">\n",
              "  <thead>\n",
              "    <tr style=\"text-align: right;\">\n",
              "      <th></th>\n",
              "      <th>filename</th>\n",
              "      <th>opinion_text</th>\n",
              "    </tr>\n",
              "  </thead>\n",
              "  <tbody>\n",
              "    <tr>\n",
              "      <th>0</th>\n",
              "      <td>accuracy_garmin_nuvi_255W_gps</td>\n",
              "      <td>...</td>\n",
              "    </tr>\n",
              "    <tr>\n",
              "      <th>1</th>\n",
              "      <td>bathroom_bestwestern_hotel_sfo</td>\n",
              "      <td>...</td>\n",
              "    </tr>\n",
              "    <tr>\n",
              "      <th>2</th>\n",
              "      <td>battery-life_amazon_kindle</td>\n",
              "      <td>...</td>\n",
              "    </tr>\n",
              "    <tr>\n",
              "      <th>3</th>\n",
              "      <td>battery-life_ipod_nano_8gb</td>\n",
              "      <td>...</td>\n",
              "    </tr>\n",
              "    <tr>\n",
              "      <th>4</th>\n",
              "      <td>battery-life_netbook_1005ha</td>\n",
              "      <td>...</td>\n",
              "    </tr>\n",
              "  </tbody>\n",
              "</table>\n",
              "</div>"
            ],
            "text/plain": [
              "                         filename  \\\n",
              "0   accuracy_garmin_nuvi_255W_gps   \n",
              "1  bathroom_bestwestern_hotel_sfo   \n",
              "2      battery-life_amazon_kindle   \n",
              "3      battery-life_ipod_nano_8gb   \n",
              "4     battery-life_netbook_1005ha   \n",
              "\n",
              "                                        opinion_text  \n",
              "0                                                ...  \n",
              "1                                                ...  \n",
              "2                                                ...  \n",
              "3                                                ...  \n",
              "4                                                ...  "
            ]
          },
          "execution_count": 5,
          "metadata": {},
          "output_type": "execute_result"
        }
      ],
      "source": [
        "import pandas as pd\n",
        "import glob, os\n",
        "\n",
        "path = r'C:\\Users\\Kim\\Downloads\\opinosis+opinion+frasl+review\\OpinosisDataset1.0\\topics'\n",
        "# path로 지정한 디렉터리 밑에 있는 모든 .data 파일의 파일명을 리스트로 취합.\n",
        "all_files = glob.glob(os.path.join(path, \"*.data\"))\n",
        "filename_list = []\n",
        "opinion_text = []\n",
        "\n",
        "# 개별 파일의 파일명은 filename_list로 취합,\n",
        "# 개별 파일의 파일 내용은 DataFrame 로딩 후 다시 string으로 변환해 opinion_text list로 취합\n",
        "for file_ in all_files:\n",
        "  # 개별 파일을 읽어서 DataFrame으로 생성\n",
        "  df = pd.read_table(file_, index_col=None, header=0, encoding='latin1')\n",
        "\n",
        "  # 절대 경로로 주어진 파일명을 가공. 리눅스에서 수행할 때는 다음 \\\\를 /로 변경.\n",
        "  # 맨 마지막 .data 확장자도 제거\n",
        "  filename_ = file_.split('\\\\')[-1]\n",
        "  filename = filename_.split('.')[0]\n",
        "\n",
        "  # 파일명 list와 파일 내용 list에 파일명과 파일 내용을 추가.\n",
        "  filename_list.append(filename)\n",
        "  opinion_text.append(df.to_string())\n",
        "\n",
        "# 파일명 list와 파일 내용 list 객체를 DataFrame으로 생성\n",
        "document_df = pd.DataFrame({'filename':filename_list, 'opinion_text':opinion_text})\n",
        "document_df.head()"
      ]
    },
    {
      "cell_type": "code",
      "execution_count": null,
      "id": "8694da39",
      "metadata": {
        "id": "8694da39"
      },
      "outputs": [],
      "source": [
        "# LemNormalize 함수 불러오기\n",
        "\n",
        "from nltk.stem import WordNetLemmatizer\n",
        "import nltk\n",
        "import string\n",
        "\n",
        "# 단어 원형 추출 함수\n",
        "lemmar = WordNetLemmatizer()\n",
        "def LemTokens(tokens):\n",
        "    return [lemmar.lemmatize(token) for token in tokens]\n",
        "\n",
        "# 특수 문자 사전 생성: {33: None ...}\n",
        "# ord(): 아스키 코드 생성\n",
        "remove_punct_dict = dict((ord(punct), None) for punct in string.punctuation)\n",
        "\n",
        "# 특수 문자 제거 및 단어 원형 추출\n",
        "def LemNormalize(text):\n",
        "    # 텍스트 소문자 변경 후 특수 문자 제거\n",
        "    text_new = text.lower().translate(remove_punct_dict)\n",
        "\n",
        "    # 단어 토큰화\n",
        "    word_tokens = nltk.word_tokenize(text_new)\n",
        "\n",
        "    # 단어 원형 추출\n",
        "    return LemTokens(word_tokens)"
      ]
    },
    {
      "cell_type": "code",
      "execution_count": null,
      "id": "cd98a8c5",
      "metadata": {
        "id": "cd98a8c5",
        "outputId": "f95041fe-fb61-4345-a907-0450491fb54e"
      },
      "outputs": [
        {
          "name": "stderr",
          "output_type": "stream",
          "text": [
            "[nltk_data] Downloading package punkt to\n",
            "[nltk_data]     C:\\Users\\Kim\\AppData\\Roaming\\nltk_data...\n",
            "[nltk_data]   Unzipping tokenizers\\punkt.zip.\n",
            "[nltk_data] Downloading package wordnet to\n",
            "[nltk_data]     C:\\Users\\Kim\\AppData\\Roaming\\nltk_data...\n",
            "[nltk_data] Downloading package omw-1.4 to\n",
            "[nltk_data]     C:\\Users\\Kim\\AppData\\Roaming\\nltk_data...\n"
          ]
        },
        {
          "data": {
            "text/plain": [
              "True"
            ]
          },
          "execution_count": 7,
          "metadata": {},
          "output_type": "execute_result"
        }
      ],
      "source": [
        "nltk.download('punkt')\n",
        "nltk.download('wordnet')\n",
        "nltk.download('omw-1.4')"
      ]
    },
    {
      "cell_type": "code",
      "execution_count": null,
      "id": "5cd1772e",
      "metadata": {
        "id": "5cd1772e",
        "outputId": "3af35622-90ed-4af9-88c0-de65324d1433"
      },
      "outputs": [
        {
          "name": "stderr",
          "output_type": "stream",
          "text": [
            "C:\\Users\\Kim\\anaconda3\\lib\\site-packages\\sklearn\\feature_extraction\\text.py:396: UserWarning: Your stop_words may be inconsistent with your preprocessing. Tokenizing the stop words generated tokens ['ha', 'le', 'u', 'wa'] not in stop_words.\n",
            "  warnings.warn(\n"
          ]
        }
      ],
      "source": [
        "from sklearn.feature_extraction.text import TfidfVectorizer\n",
        "\n",
        "tfidf_vect=TfidfVectorizer(tokenizer=LemNormalize, stop_words='english',\n",
        "                           ngram_range=(1,2), min_df=0.05, max_df=0.85)\n",
        "\n",
        "feature_vect=tfidf_vect.fit_transform(document_df['opinion_text'])"
      ]
    },
    {
      "cell_type": "code",
      "execution_count": null,
      "id": "096bbd58",
      "metadata": {
        "id": "096bbd58"
      },
      "outputs": [],
      "source": [
        "from sklearn.cluster import KMeans\n",
        "\n",
        "# 5개 집합으로 군집화 수행.\n",
        "km_cluster = KMeans(n_clusters=5, max_iter=10000, random_state=0)\n",
        "km_cluster.fit(feature_vect)\n",
        "cluster_label = km_cluster.labels_\n",
        "cluster_centers = km_cluster.cluster_centers_  # 군집의 중심점을 수치로 표시"
      ]
    },
    {
      "cell_type": "code",
      "execution_count": null,
      "id": "08e16e76",
      "metadata": {
        "id": "08e16e76",
        "outputId": "4b02eea6-d641-4875-91ed-b2fe478aecaf"
      },
      "outputs": [
        {
          "data": {
            "text/html": [
              "<div>\n",
              "<style scoped>\n",
              "    .dataframe tbody tr th:only-of-type {\n",
              "        vertical-align: middle;\n",
              "    }\n",
              "\n",
              "    .dataframe tbody tr th {\n",
              "        vertical-align: top;\n",
              "    }\n",
              "\n",
              "    .dataframe thead th {\n",
              "        text-align: right;\n",
              "    }\n",
              "</style>\n",
              "<table border=\"1\" class=\"dataframe\">\n",
              "  <thead>\n",
              "    <tr style=\"text-align: right;\">\n",
              "      <th></th>\n",
              "      <th>filename</th>\n",
              "      <th>opinion_text</th>\n",
              "      <th>cluster_label</th>\n",
              "    </tr>\n",
              "  </thead>\n",
              "  <tbody>\n",
              "    <tr>\n",
              "      <th>0</th>\n",
              "      <td>accuracy_garmin_nuvi_255W_gps</td>\n",
              "      <td>...</td>\n",
              "      <td>2</td>\n",
              "    </tr>\n",
              "    <tr>\n",
              "      <th>1</th>\n",
              "      <td>bathroom_bestwestern_hotel_sfo</td>\n",
              "      <td>...</td>\n",
              "      <td>0</td>\n",
              "    </tr>\n",
              "    <tr>\n",
              "      <th>2</th>\n",
              "      <td>battery-life_amazon_kindle</td>\n",
              "      <td>...</td>\n",
              "      <td>1</td>\n",
              "    </tr>\n",
              "    <tr>\n",
              "      <th>3</th>\n",
              "      <td>battery-life_ipod_nano_8gb</td>\n",
              "      <td>...</td>\n",
              "      <td>1</td>\n",
              "    </tr>\n",
              "    <tr>\n",
              "      <th>4</th>\n",
              "      <td>battery-life_netbook_1005ha</td>\n",
              "      <td>...</td>\n",
              "      <td>1</td>\n",
              "    </tr>\n",
              "  </tbody>\n",
              "</table>\n",
              "</div>"
            ],
            "text/plain": [
              "                         filename  \\\n",
              "0   accuracy_garmin_nuvi_255W_gps   \n",
              "1  bathroom_bestwestern_hotel_sfo   \n",
              "2      battery-life_amazon_kindle   \n",
              "3      battery-life_ipod_nano_8gb   \n",
              "4     battery-life_netbook_1005ha   \n",
              "\n",
              "                                        opinion_text  cluster_label  \n",
              "0                                                ...              2  \n",
              "1                                                ...              0  \n",
              "2                                                ...              1  \n",
              "3                                                ...              1  \n",
              "4                                                ...              1  "
            ]
          },
          "execution_count": 10,
          "metadata": {},
          "output_type": "execute_result"
        }
      ],
      "source": [
        "# 군집이 각 주제별로 유사한 형태로 잘 구성됐는지 확인\n",
        "document_df['cluster_label'] = cluster_label\n",
        "document_df.head()"
      ]
    },
    {
      "cell_type": "code",
      "execution_count": null,
      "id": "f1d1582c",
      "metadata": {
        "id": "f1d1582c",
        "outputId": "de2b3da4-3253-416d-d688-eae4389b6e4f"
      },
      "outputs": [
        {
          "data": {
            "text/html": [
              "<div>\n",
              "<style scoped>\n",
              "    .dataframe tbody tr th:only-of-type {\n",
              "        vertical-align: middle;\n",
              "    }\n",
              "\n",
              "    .dataframe tbody tr th {\n",
              "        vertical-align: top;\n",
              "    }\n",
              "\n",
              "    .dataframe thead th {\n",
              "        text-align: right;\n",
              "    }\n",
              "</style>\n",
              "<table border=\"1\" class=\"dataframe\">\n",
              "  <thead>\n",
              "    <tr style=\"text-align: right;\">\n",
              "      <th></th>\n",
              "      <th>filename</th>\n",
              "      <th>opinion_text</th>\n",
              "      <th>cluster_label</th>\n",
              "    </tr>\n",
              "  </thead>\n",
              "  <tbody>\n",
              "    <tr>\n",
              "      <th>1</th>\n",
              "      <td>bathroom_bestwestern_hotel_sfo</td>\n",
              "      <td>...</td>\n",
              "      <td>0</td>\n",
              "    </tr>\n",
              "    <tr>\n",
              "      <th>32</th>\n",
              "      <td>room_holiday_inn_london</td>\n",
              "      <td>...</td>\n",
              "      <td>0</td>\n",
              "    </tr>\n",
              "    <tr>\n",
              "      <th>30</th>\n",
              "      <td>rooms_bestwestern_hotel_sfo</td>\n",
              "      <td>...</td>\n",
              "      <td>0</td>\n",
              "    </tr>\n",
              "    <tr>\n",
              "      <th>31</th>\n",
              "      <td>rooms_swissotel_chicago</td>\n",
              "      <td>...</td>\n",
              "      <td>0</td>\n",
              "    </tr>\n",
              "  </tbody>\n",
              "</table>\n",
              "</div>"
            ],
            "text/plain": [
              "                          filename  \\\n",
              "1   bathroom_bestwestern_hotel_sfo   \n",
              "32         room_holiday_inn_london   \n",
              "30     rooms_bestwestern_hotel_sfo   \n",
              "31         rooms_swissotel_chicago   \n",
              "\n",
              "                                         opinion_text  cluster_label  \n",
              "1                                                 ...              0  \n",
              "32                                                ...              0  \n",
              "30                                                ...              0  \n",
              "31                                                ...              0  "
            ]
          },
          "execution_count": 11,
          "metadata": {},
          "output_type": "execute_result"
        }
      ],
      "source": [
        "# 호텔에 대한 리뷰로 군집화\n",
        "document_df[document_df['cluster_label']==0].sort_values(by='filename')"
      ]
    },
    {
      "cell_type": "code",
      "execution_count": null,
      "id": "495de817",
      "metadata": {
        "id": "495de817",
        "outputId": "0e8c2485-edd4-4c4b-fc88-46b411944a98"
      },
      "outputs": [
        {
          "data": {
            "text/html": [
              "<div>\n",
              "<style scoped>\n",
              "    .dataframe tbody tr th:only-of-type {\n",
              "        vertical-align: middle;\n",
              "    }\n",
              "\n",
              "    .dataframe tbody tr th {\n",
              "        vertical-align: top;\n",
              "    }\n",
              "\n",
              "    .dataframe thead th {\n",
              "        text-align: right;\n",
              "    }\n",
              "</style>\n",
              "<table border=\"1\" class=\"dataframe\">\n",
              "  <thead>\n",
              "    <tr style=\"text-align: right;\">\n",
              "      <th></th>\n",
              "      <th>filename</th>\n",
              "      <th>opinion_text</th>\n",
              "      <th>cluster_label</th>\n",
              "    </tr>\n",
              "  </thead>\n",
              "  <tbody>\n",
              "    <tr>\n",
              "      <th>2</th>\n",
              "      <td>battery-life_amazon_kindle</td>\n",
              "      <td>...</td>\n",
              "      <td>1</td>\n",
              "    </tr>\n",
              "    <tr>\n",
              "      <th>3</th>\n",
              "      <td>battery-life_ipod_nano_8gb</td>\n",
              "      <td>...</td>\n",
              "      <td>1</td>\n",
              "    </tr>\n",
              "    <tr>\n",
              "      <th>4</th>\n",
              "      <td>battery-life_netbook_1005ha</td>\n",
              "      <td>...</td>\n",
              "      <td>1</td>\n",
              "    </tr>\n",
              "    <tr>\n",
              "      <th>19</th>\n",
              "      <td>keyboard_netbook_1005ha</td>\n",
              "      <td>...</td>\n",
              "      <td>1</td>\n",
              "    </tr>\n",
              "    <tr>\n",
              "      <th>26</th>\n",
              "      <td>performance_netbook_1005ha</td>\n",
              "      <td>...</td>\n",
              "      <td>1</td>\n",
              "    </tr>\n",
              "    <tr>\n",
              "      <th>41</th>\n",
              "      <td>size_asus_netbook_1005ha</td>\n",
              "      <td>...</td>\n",
              "      <td>1</td>\n",
              "    </tr>\n",
              "    <tr>\n",
              "      <th>42</th>\n",
              "      <td>sound_ipod_nano_8gb</td>\n",
              "      <td>headphone jack i got a clear case for it a...</td>\n",
              "      <td>1</td>\n",
              "    </tr>\n",
              "    <tr>\n",
              "      <th>44</th>\n",
              "      <td>speed_windows7</td>\n",
              "      <td>...</td>\n",
              "      <td>1</td>\n",
              "    </tr>\n",
              "  </tbody>\n",
              "</table>\n",
              "</div>"
            ],
            "text/plain": [
              "                       filename  \\\n",
              "2    battery-life_amazon_kindle   \n",
              "3    battery-life_ipod_nano_8gb   \n",
              "4   battery-life_netbook_1005ha   \n",
              "19      keyboard_netbook_1005ha   \n",
              "26   performance_netbook_1005ha   \n",
              "41     size_asus_netbook_1005ha   \n",
              "42          sound_ipod_nano_8gb   \n",
              "44               speed_windows7   \n",
              "\n",
              "                                         opinion_text  cluster_label  \n",
              "2                                                 ...              1  \n",
              "3                                                 ...              1  \n",
              "4                                                 ...              1  \n",
              "19                                                ...              1  \n",
              "26                                                ...              1  \n",
              "41                                                ...              1  \n",
              "42      headphone jack i got a clear case for it a...              1  \n",
              "44                                                ...              1  "
            ]
          },
          "execution_count": 12,
          "metadata": {},
          "output_type": "execute_result"
        }
      ],
      "source": [
        "# 전자기기에 대한 리뷰로 군집화\n",
        "document_df[document_df['cluster_label']==1].sort_values(by='filename')"
      ]
    },
    {
      "cell_type": "code",
      "execution_count": null,
      "id": "2df7afde",
      "metadata": {
        "id": "2df7afde",
        "outputId": "0c753a98-bb06-437d-a6ed-7476eec585cd"
      },
      "outputs": [
        {
          "data": {
            "text/html": [
              "<div>\n",
              "<style scoped>\n",
              "    .dataframe tbody tr th:only-of-type {\n",
              "        vertical-align: middle;\n",
              "    }\n",
              "\n",
              "    .dataframe tbody tr th {\n",
              "        vertical-align: top;\n",
              "    }\n",
              "\n",
              "    .dataframe thead th {\n",
              "        text-align: right;\n",
              "    }\n",
              "</style>\n",
              "<table border=\"1\" class=\"dataframe\">\n",
              "  <thead>\n",
              "    <tr style=\"text-align: right;\">\n",
              "      <th></th>\n",
              "      <th>filename</th>\n",
              "      <th>opinion_text</th>\n",
              "      <th>cluster_label</th>\n",
              "    </tr>\n",
              "  </thead>\n",
              "  <tbody>\n",
              "    <tr>\n",
              "      <th>0</th>\n",
              "      <td>accuracy_garmin_nuvi_255W_gps</td>\n",
              "      <td>...</td>\n",
              "      <td>2</td>\n",
              "    </tr>\n",
              "    <tr>\n",
              "      <th>5</th>\n",
              "      <td>buttons_amazon_kindle</td>\n",
              "      <td>...</td>\n",
              "      <td>2</td>\n",
              "    </tr>\n",
              "    <tr>\n",
              "      <th>8</th>\n",
              "      <td>directions_garmin_nuvi_255W_gps</td>\n",
              "      <td>...</td>\n",
              "      <td>2</td>\n",
              "    </tr>\n",
              "    <tr>\n",
              "      <th>9</th>\n",
              "      <td>display_garmin_nuvi_255W_gps</td>\n",
              "      <td>...</td>\n",
              "      <td>2</td>\n",
              "    </tr>\n",
              "    <tr>\n",
              "      <th>10</th>\n",
              "      <td>eyesight-issues_amazon_kindle</td>\n",
              "      <td>...</td>\n",
              "      <td>2</td>\n",
              "    </tr>\n",
              "    <tr>\n",
              "      <th>11</th>\n",
              "      <td>features_windows7</td>\n",
              "      <td>...</td>\n",
              "      <td>2</td>\n",
              "    </tr>\n",
              "    <tr>\n",
              "      <th>12</th>\n",
              "      <td>fonts_amazon_kindle</td>\n",
              "      <td>...</td>\n",
              "      <td>2</td>\n",
              "    </tr>\n",
              "    <tr>\n",
              "      <th>23</th>\n",
              "      <td>navigation_amazon_kindle</td>\n",
              "      <td>...</td>\n",
              "      <td>2</td>\n",
              "    </tr>\n",
              "    <tr>\n",
              "      <th>33</th>\n",
              "      <td>satellite_garmin_nuvi_255W_gps</td>\n",
              "      <td>...</td>\n",
              "      <td>2</td>\n",
              "    </tr>\n",
              "    <tr>\n",
              "      <th>34</th>\n",
              "      <td>screen_garmin_nuvi_255W_gps</td>\n",
              "      <td>...</td>\n",
              "      <td>2</td>\n",
              "    </tr>\n",
              "    <tr>\n",
              "      <th>35</th>\n",
              "      <td>screen_ipod_nano_8gb</td>\n",
              "      <td>...</td>\n",
              "      <td>2</td>\n",
              "    </tr>\n",
              "    <tr>\n",
              "      <th>36</th>\n",
              "      <td>screen_netbook_1005ha</td>\n",
              "      <td>...</td>\n",
              "      <td>2</td>\n",
              "    </tr>\n",
              "    <tr>\n",
              "      <th>43</th>\n",
              "      <td>speed_garmin_nuvi_255W_gps</td>\n",
              "      <td>...</td>\n",
              "      <td>2</td>\n",
              "    </tr>\n",
              "    <tr>\n",
              "      <th>48</th>\n",
              "      <td>updates_garmin_nuvi_255W_gps</td>\n",
              "      <td>...</td>\n",
              "      <td>2</td>\n",
              "    </tr>\n",
              "    <tr>\n",
              "      <th>49</th>\n",
              "      <td>video_ipod_nano_8gb</td>\n",
              "      <td>...</td>\n",
              "      <td>2</td>\n",
              "    </tr>\n",
              "    <tr>\n",
              "      <th>50</th>\n",
              "      <td>voice_garmin_nuvi_255W_gps</td>\n",
              "      <td>...</td>\n",
              "      <td>2</td>\n",
              "    </tr>\n",
              "  </tbody>\n",
              "</table>\n",
              "</div>"
            ],
            "text/plain": [
              "                           filename  \\\n",
              "0     accuracy_garmin_nuvi_255W_gps   \n",
              "5             buttons_amazon_kindle   \n",
              "8   directions_garmin_nuvi_255W_gps   \n",
              "9      display_garmin_nuvi_255W_gps   \n",
              "10    eyesight-issues_amazon_kindle   \n",
              "11                features_windows7   \n",
              "12              fonts_amazon_kindle   \n",
              "23         navigation_amazon_kindle   \n",
              "33   satellite_garmin_nuvi_255W_gps   \n",
              "34      screen_garmin_nuvi_255W_gps   \n",
              "35             screen_ipod_nano_8gb   \n",
              "36            screen_netbook_1005ha   \n",
              "43       speed_garmin_nuvi_255W_gps   \n",
              "48     updates_garmin_nuvi_255W_gps   \n",
              "49              video_ipod_nano_8gb   \n",
              "50       voice_garmin_nuvi_255W_gps   \n",
              "\n",
              "                                         opinion_text  cluster_label  \n",
              "0                                                 ...              2  \n",
              "5                                                 ...              2  \n",
              "8                                                 ...              2  \n",
              "9                                                 ...              2  \n",
              "10                                                ...              2  \n",
              "11                                                ...              2  \n",
              "12                                                ...              2  \n",
              "23                                                ...              2  \n",
              "33                                                ...              2  \n",
              "34                                                ...              2  \n",
              "35                                                ...              2  \n",
              "36                                                ...              2  \n",
              "43                                                ...              2  \n",
              "48                                                ...              2  \n",
              "49                                                ...              2  \n",
              "50                                                ...              2  "
            ]
          },
          "execution_count": 13,
          "metadata": {},
          "output_type": "execute_result"
        }
      ],
      "source": [
        "# 차량용 네비게이션에 대한 리뷰로 군집화\n",
        "document_df[document_df['cluster_label']==2].sort_values(by='filename')"
      ]
    },
    {
      "cell_type": "code",
      "execution_count": null,
      "id": "4c7f60ba",
      "metadata": {
        "id": "4c7f60ba",
        "outputId": "618939a6-015b-4b7a-a178-9d77aca63250"
      },
      "outputs": [
        {
          "data": {
            "text/html": [
              "<div>\n",
              "<style scoped>\n",
              "    .dataframe tbody tr th:only-of-type {\n",
              "        vertical-align: middle;\n",
              "    }\n",
              "\n",
              "    .dataframe tbody tr th {\n",
              "        vertical-align: top;\n",
              "    }\n",
              "\n",
              "    .dataframe thead th {\n",
              "        text-align: right;\n",
              "    }\n",
              "</style>\n",
              "<table border=\"1\" class=\"dataframe\">\n",
              "  <thead>\n",
              "    <tr style=\"text-align: right;\">\n",
              "      <th></th>\n",
              "      <th>filename</th>\n",
              "      <th>opinion_text</th>\n",
              "      <th>cluster_label</th>\n",
              "    </tr>\n",
              "  </thead>\n",
              "  <tbody>\n",
              "    <tr>\n",
              "      <th>13</th>\n",
              "      <td>food_holiday_inn_london</td>\n",
              "      <td>...</td>\n",
              "      <td>3</td>\n",
              "    </tr>\n",
              "    <tr>\n",
              "      <th>14</th>\n",
              "      <td>food_swissotel_chicago</td>\n",
              "      <td>...</td>\n",
              "      <td>3</td>\n",
              "    </tr>\n",
              "    <tr>\n",
              "      <th>15</th>\n",
              "      <td>free_bestwestern_hotel_sfo</td>\n",
              "      <td>...</td>\n",
              "      <td>3</td>\n",
              "    </tr>\n",
              "    <tr>\n",
              "      <th>20</th>\n",
              "      <td>location_bestwestern_hotel_sfo</td>\n",
              "      <td>...</td>\n",
              "      <td>3</td>\n",
              "    </tr>\n",
              "    <tr>\n",
              "      <th>21</th>\n",
              "      <td>location_holiday_inn_london</td>\n",
              "      <td>...</td>\n",
              "      <td>3</td>\n",
              "    </tr>\n",
              "    <tr>\n",
              "      <th>24</th>\n",
              "      <td>parking_bestwestern_hotel_sfo</td>\n",
              "      <td>...</td>\n",
              "      <td>3</td>\n",
              "    </tr>\n",
              "    <tr>\n",
              "      <th>27</th>\n",
              "      <td>price_amazon_kindle</td>\n",
              "      <td>...</td>\n",
              "      <td>3</td>\n",
              "    </tr>\n",
              "    <tr>\n",
              "      <th>28</th>\n",
              "      <td>price_holiday_inn_london</td>\n",
              "      <td>...</td>\n",
              "      <td>3</td>\n",
              "    </tr>\n",
              "    <tr>\n",
              "      <th>38</th>\n",
              "      <td>service_bestwestern_hotel_sfo</td>\n",
              "      <td>...</td>\n",
              "      <td>3</td>\n",
              "    </tr>\n",
              "    <tr>\n",
              "      <th>39</th>\n",
              "      <td>service_holiday_inn_london</td>\n",
              "      <td>...</td>\n",
              "      <td>3</td>\n",
              "    </tr>\n",
              "    <tr>\n",
              "      <th>40</th>\n",
              "      <td>service_swissotel_hotel_chicago</td>\n",
              "      <td>...</td>\n",
              "      <td>3</td>\n",
              "    </tr>\n",
              "    <tr>\n",
              "      <th>45</th>\n",
              "      <td>staff_bestwestern_hotel_sfo</td>\n",
              "      <td>...</td>\n",
              "      <td>3</td>\n",
              "    </tr>\n",
              "    <tr>\n",
              "      <th>46</th>\n",
              "      <td>staff_swissotel_chicago</td>\n",
              "      <td>...</td>\n",
              "      <td>3</td>\n",
              "    </tr>\n",
              "  </tbody>\n",
              "</table>\n",
              "</div>"
            ],
            "text/plain": [
              "                           filename  \\\n",
              "13          food_holiday_inn_london   \n",
              "14           food_swissotel_chicago   \n",
              "15       free_bestwestern_hotel_sfo   \n",
              "20   location_bestwestern_hotel_sfo   \n",
              "21      location_holiday_inn_london   \n",
              "24    parking_bestwestern_hotel_sfo   \n",
              "27              price_amazon_kindle   \n",
              "28         price_holiday_inn_london   \n",
              "38    service_bestwestern_hotel_sfo   \n",
              "39       service_holiday_inn_london   \n",
              "40  service_swissotel_hotel_chicago   \n",
              "45      staff_bestwestern_hotel_sfo   \n",
              "46          staff_swissotel_chicago   \n",
              "\n",
              "                                         opinion_text  cluster_label  \n",
              "13                                                ...              3  \n",
              "14                                                ...              3  \n",
              "15                                                ...              3  \n",
              "20                                                ...              3  \n",
              "21                                                ...              3  \n",
              "24                                                ...              3  \n",
              "27                                                ...              3  \n",
              "28                                                ...              3  \n",
              "38                                                ...              3  \n",
              "39                                                ...              3  \n",
              "40                                                ...              3  \n",
              "45                                                ...              3  \n",
              "46                                                ...              3  "
            ]
          },
          "execution_count": 14,
          "metadata": {},
          "output_type": "execute_result"
        }
      ],
      "source": [
        "# 대부분 호텔에 대한 리뷰로 군집화\n",
        "document_df[document_df['cluster_label']==3].sort_values(by='filename')"
      ]
    },
    {
      "cell_type": "code",
      "execution_count": null,
      "id": "13a69a66",
      "metadata": {
        "id": "13a69a66",
        "outputId": "0f0bcc6a-7143-4e94-b516-b8d20fc40249"
      },
      "outputs": [
        {
          "data": {
            "text/html": [
              "<div>\n",
              "<style scoped>\n",
              "    .dataframe tbody tr th:only-of-type {\n",
              "        vertical-align: middle;\n",
              "    }\n",
              "\n",
              "    .dataframe tbody tr th {\n",
              "        vertical-align: top;\n",
              "    }\n",
              "\n",
              "    .dataframe thead th {\n",
              "        text-align: right;\n",
              "    }\n",
              "</style>\n",
              "<table border=\"1\" class=\"dataframe\">\n",
              "  <thead>\n",
              "    <tr style=\"text-align: right;\">\n",
              "      <th></th>\n",
              "      <th>filename</th>\n",
              "      <th>opinion_text</th>\n",
              "      <th>cluster_label</th>\n",
              "    </tr>\n",
              "  </thead>\n",
              "  <tbody>\n",
              "    <tr>\n",
              "      <th>6</th>\n",
              "      <td>comfort_honda_accord_2008</td>\n",
              "      <td>...</td>\n",
              "      <td>4</td>\n",
              "    </tr>\n",
              "    <tr>\n",
              "      <th>7</th>\n",
              "      <td>comfort_toyota_camry_2007</td>\n",
              "      <td>...</td>\n",
              "      <td>4</td>\n",
              "    </tr>\n",
              "    <tr>\n",
              "      <th>16</th>\n",
              "      <td>gas_mileage_toyota_camry_2007</td>\n",
              "      <td>...</td>\n",
              "      <td>4</td>\n",
              "    </tr>\n",
              "    <tr>\n",
              "      <th>17</th>\n",
              "      <td>interior_honda_accord_2008</td>\n",
              "      <td>...</td>\n",
              "      <td>4</td>\n",
              "    </tr>\n",
              "    <tr>\n",
              "      <th>18</th>\n",
              "      <td>interior_toyota_camry_2007</td>\n",
              "      <td>...</td>\n",
              "      <td>4</td>\n",
              "    </tr>\n",
              "    <tr>\n",
              "      <th>22</th>\n",
              "      <td>mileage_honda_accord_2008</td>\n",
              "      <td>...</td>\n",
              "      <td>4</td>\n",
              "    </tr>\n",
              "    <tr>\n",
              "      <th>25</th>\n",
              "      <td>performance_honda_accord_2008</td>\n",
              "      <td>...</td>\n",
              "      <td>4</td>\n",
              "    </tr>\n",
              "    <tr>\n",
              "      <th>29</th>\n",
              "      <td>quality_toyota_camry_2007</td>\n",
              "      <td>...</td>\n",
              "      <td>4</td>\n",
              "    </tr>\n",
              "    <tr>\n",
              "      <th>37</th>\n",
              "      <td>seats_honda_accord_2008</td>\n",
              "      <td>...</td>\n",
              "      <td>4</td>\n",
              "    </tr>\n",
              "    <tr>\n",
              "      <th>47</th>\n",
              "      <td>transmission_toyota_camry_2007</td>\n",
              "      <td>...</td>\n",
              "      <td>4</td>\n",
              "    </tr>\n",
              "  </tbody>\n",
              "</table>\n",
              "</div>"
            ],
            "text/plain": [
              "                          filename  \\\n",
              "6        comfort_honda_accord_2008   \n",
              "7        comfort_toyota_camry_2007   \n",
              "16   gas_mileage_toyota_camry_2007   \n",
              "17      interior_honda_accord_2008   \n",
              "18      interior_toyota_camry_2007   \n",
              "22       mileage_honda_accord_2008   \n",
              "25   performance_honda_accord_2008   \n",
              "29       quality_toyota_camry_2007   \n",
              "37         seats_honda_accord_2008   \n",
              "47  transmission_toyota_camry_2007   \n",
              "\n",
              "                                         opinion_text  cluster_label  \n",
              "6                                                 ...              4  \n",
              "7                                                 ...              4  \n",
              "16                                                ...              4  \n",
              "17                                                ...              4  \n",
              "18                                                ...              4  \n",
              "22                                                ...              4  \n",
              "25                                                ...              4  \n",
              "29                                                ...              4  \n",
              "37                                                ...              4  \n",
              "47                                                ...              4  "
            ]
          },
          "execution_count": 15,
          "metadata": {},
          "output_type": "execute_result"
        }
      ],
      "source": [
        "# 자동차(토요타, 혼다 등)에 대한 리뷰로 군집화\n",
        "document_df[document_df['cluster_label']==4].sort_values(by='filename')"
      ]
    },
    {
      "cell_type": "code",
      "execution_count": null,
      "id": "b6f227af",
      "metadata": {
        "id": "b6f227af",
        "outputId": "d5778be9-b35b-4c9c-8fb3-1d4e54bfc32b"
      },
      "outputs": [
        {
          "data": {
            "text/html": [
              "<div>\n",
              "<style scoped>\n",
              "    .dataframe tbody tr th:only-of-type {\n",
              "        vertical-align: middle;\n",
              "    }\n",
              "\n",
              "    .dataframe tbody tr th {\n",
              "        vertical-align: top;\n",
              "    }\n",
              "\n",
              "    .dataframe thead th {\n",
              "        text-align: right;\n",
              "    }\n",
              "</style>\n",
              "<table border=\"1\" class=\"dataframe\">\n",
              "  <thead>\n",
              "    <tr style=\"text-align: right;\">\n",
              "      <th></th>\n",
              "      <th>filename</th>\n",
              "      <th>opinion_text</th>\n",
              "      <th>cluster_label</th>\n",
              "    </tr>\n",
              "  </thead>\n",
              "  <tbody>\n",
              "    <tr>\n",
              "      <th>0</th>\n",
              "      <td>accuracy_garmin_nuvi_255W_gps</td>\n",
              "      <td>...</td>\n",
              "      <td>0</td>\n",
              "    </tr>\n",
              "    <tr>\n",
              "      <th>48</th>\n",
              "      <td>updates_garmin_nuvi_255W_gps</td>\n",
              "      <td>...</td>\n",
              "      <td>0</td>\n",
              "    </tr>\n",
              "    <tr>\n",
              "      <th>44</th>\n",
              "      <td>speed_windows7</td>\n",
              "      <td>...</td>\n",
              "      <td>0</td>\n",
              "    </tr>\n",
              "    <tr>\n",
              "      <th>43</th>\n",
              "      <td>speed_garmin_nuvi_255W_gps</td>\n",
              "      <td>...</td>\n",
              "      <td>0</td>\n",
              "    </tr>\n",
              "    <tr>\n",
              "      <th>42</th>\n",
              "      <td>sound_ipod_nano_8gb</td>\n",
              "      <td>headphone jack i got a clear case for it a...</td>\n",
              "      <td>0</td>\n",
              "    </tr>\n",
              "    <tr>\n",
              "      <th>41</th>\n",
              "      <td>size_asus_netbook_1005ha</td>\n",
              "      <td>...</td>\n",
              "      <td>0</td>\n",
              "    </tr>\n",
              "    <tr>\n",
              "      <th>36</th>\n",
              "      <td>screen_netbook_1005ha</td>\n",
              "      <td>...</td>\n",
              "      <td>0</td>\n",
              "    </tr>\n",
              "    <tr>\n",
              "      <th>35</th>\n",
              "      <td>screen_ipod_nano_8gb</td>\n",
              "      <td>...</td>\n",
              "      <td>0</td>\n",
              "    </tr>\n",
              "    <tr>\n",
              "      <th>34</th>\n",
              "      <td>screen_garmin_nuvi_255W_gps</td>\n",
              "      <td>...</td>\n",
              "      <td>0</td>\n",
              "    </tr>\n",
              "    <tr>\n",
              "      <th>33</th>\n",
              "      <td>satellite_garmin_nuvi_255W_gps</td>\n",
              "      <td>...</td>\n",
              "      <td>0</td>\n",
              "    </tr>\n",
              "    <tr>\n",
              "      <th>27</th>\n",
              "      <td>price_amazon_kindle</td>\n",
              "      <td>...</td>\n",
              "      <td>0</td>\n",
              "    </tr>\n",
              "    <tr>\n",
              "      <th>26</th>\n",
              "      <td>performance_netbook_1005ha</td>\n",
              "      <td>...</td>\n",
              "      <td>0</td>\n",
              "    </tr>\n",
              "    <tr>\n",
              "      <th>49</th>\n",
              "      <td>video_ipod_nano_8gb</td>\n",
              "      <td>...</td>\n",
              "      <td>0</td>\n",
              "    </tr>\n",
              "    <tr>\n",
              "      <th>23</th>\n",
              "      <td>navigation_amazon_kindle</td>\n",
              "      <td>...</td>\n",
              "      <td>0</td>\n",
              "    </tr>\n",
              "    <tr>\n",
              "      <th>19</th>\n",
              "      <td>keyboard_netbook_1005ha</td>\n",
              "      <td>...</td>\n",
              "      <td>0</td>\n",
              "    </tr>\n",
              "    <tr>\n",
              "      <th>50</th>\n",
              "      <td>voice_garmin_nuvi_255W_gps</td>\n",
              "      <td>...</td>\n",
              "      <td>0</td>\n",
              "    </tr>\n",
              "    <tr>\n",
              "      <th>9</th>\n",
              "      <td>display_garmin_nuvi_255W_gps</td>\n",
              "      <td>...</td>\n",
              "      <td>0</td>\n",
              "    </tr>\n",
              "    <tr>\n",
              "      <th>2</th>\n",
              "      <td>battery-life_amazon_kindle</td>\n",
              "      <td>...</td>\n",
              "      <td>0</td>\n",
              "    </tr>\n",
              "    <tr>\n",
              "      <th>3</th>\n",
              "      <td>battery-life_ipod_nano_8gb</td>\n",
              "      <td>...</td>\n",
              "      <td>0</td>\n",
              "    </tr>\n",
              "    <tr>\n",
              "      <th>4</th>\n",
              "      <td>battery-life_netbook_1005ha</td>\n",
              "      <td>...</td>\n",
              "      <td>0</td>\n",
              "    </tr>\n",
              "    <tr>\n",
              "      <th>5</th>\n",
              "      <td>buttons_amazon_kindle</td>\n",
              "      <td>...</td>\n",
              "      <td>0</td>\n",
              "    </tr>\n",
              "    <tr>\n",
              "      <th>12</th>\n",
              "      <td>fonts_amazon_kindle</td>\n",
              "      <td>...</td>\n",
              "      <td>0</td>\n",
              "    </tr>\n",
              "    <tr>\n",
              "      <th>11</th>\n",
              "      <td>features_windows7</td>\n",
              "      <td>...</td>\n",
              "      <td>0</td>\n",
              "    </tr>\n",
              "    <tr>\n",
              "      <th>10</th>\n",
              "      <td>eyesight-issues_amazon_kindle</td>\n",
              "      <td>...</td>\n",
              "      <td>0</td>\n",
              "    </tr>\n",
              "    <tr>\n",
              "      <th>8</th>\n",
              "      <td>directions_garmin_nuvi_255W_gps</td>\n",
              "      <td>...</td>\n",
              "      <td>0</td>\n",
              "    </tr>\n",
              "    <tr>\n",
              "      <th>47</th>\n",
              "      <td>transmission_toyota_camry_2007</td>\n",
              "      <td>...</td>\n",
              "      <td>1</td>\n",
              "    </tr>\n",
              "    <tr>\n",
              "      <th>37</th>\n",
              "      <td>seats_honda_accord_2008</td>\n",
              "      <td>...</td>\n",
              "      <td>1</td>\n",
              "    </tr>\n",
              "    <tr>\n",
              "      <th>6</th>\n",
              "      <td>comfort_honda_accord_2008</td>\n",
              "      <td>...</td>\n",
              "      <td>1</td>\n",
              "    </tr>\n",
              "    <tr>\n",
              "      <th>7</th>\n",
              "      <td>comfort_toyota_camry_2007</td>\n",
              "      <td>...</td>\n",
              "      <td>1</td>\n",
              "    </tr>\n",
              "    <tr>\n",
              "      <th>16</th>\n",
              "      <td>gas_mileage_toyota_camry_2007</td>\n",
              "      <td>...</td>\n",
              "      <td>1</td>\n",
              "    </tr>\n",
              "    <tr>\n",
              "      <th>25</th>\n",
              "      <td>performance_honda_accord_2008</td>\n",
              "      <td>...</td>\n",
              "      <td>1</td>\n",
              "    </tr>\n",
              "    <tr>\n",
              "      <th>17</th>\n",
              "      <td>interior_honda_accord_2008</td>\n",
              "      <td>...</td>\n",
              "      <td>1</td>\n",
              "    </tr>\n",
              "    <tr>\n",
              "      <th>18</th>\n",
              "      <td>interior_toyota_camry_2007</td>\n",
              "      <td>...</td>\n",
              "      <td>1</td>\n",
              "    </tr>\n",
              "    <tr>\n",
              "      <th>22</th>\n",
              "      <td>mileage_honda_accord_2008</td>\n",
              "      <td>...</td>\n",
              "      <td>1</td>\n",
              "    </tr>\n",
              "    <tr>\n",
              "      <th>29</th>\n",
              "      <td>quality_toyota_camry_2007</td>\n",
              "      <td>...</td>\n",
              "      <td>1</td>\n",
              "    </tr>\n",
              "    <tr>\n",
              "      <th>1</th>\n",
              "      <td>bathroom_bestwestern_hotel_sfo</td>\n",
              "      <td>...</td>\n",
              "      <td>2</td>\n",
              "    </tr>\n",
              "    <tr>\n",
              "      <th>46</th>\n",
              "      <td>staff_swissotel_chicago</td>\n",
              "      <td>...</td>\n",
              "      <td>2</td>\n",
              "    </tr>\n",
              "    <tr>\n",
              "      <th>45</th>\n",
              "      <td>staff_bestwestern_hotel_sfo</td>\n",
              "      <td>...</td>\n",
              "      <td>2</td>\n",
              "    </tr>\n",
              "    <tr>\n",
              "      <th>14</th>\n",
              "      <td>food_swissotel_chicago</td>\n",
              "      <td>...</td>\n",
              "      <td>2</td>\n",
              "    </tr>\n",
              "    <tr>\n",
              "      <th>20</th>\n",
              "      <td>location_bestwestern_hotel_sfo</td>\n",
              "      <td>...</td>\n",
              "      <td>2</td>\n",
              "    </tr>\n",
              "    <tr>\n",
              "      <th>21</th>\n",
              "      <td>location_holiday_inn_london</td>\n",
              "      <td>...</td>\n",
              "      <td>2</td>\n",
              "    </tr>\n",
              "    <tr>\n",
              "      <th>30</th>\n",
              "      <td>rooms_bestwestern_hotel_sfo</td>\n",
              "      <td>...</td>\n",
              "      <td>2</td>\n",
              "    </tr>\n",
              "    <tr>\n",
              "      <th>38</th>\n",
              "      <td>service_bestwestern_hotel_sfo</td>\n",
              "      <td>...</td>\n",
              "      <td>2</td>\n",
              "    </tr>\n",
              "    <tr>\n",
              "      <th>13</th>\n",
              "      <td>food_holiday_inn_london</td>\n",
              "      <td>...</td>\n",
              "      <td>2</td>\n",
              "    </tr>\n",
              "    <tr>\n",
              "      <th>24</th>\n",
              "      <td>parking_bestwestern_hotel_sfo</td>\n",
              "      <td>...</td>\n",
              "      <td>2</td>\n",
              "    </tr>\n",
              "    <tr>\n",
              "      <th>28</th>\n",
              "      <td>price_holiday_inn_london</td>\n",
              "      <td>...</td>\n",
              "      <td>2</td>\n",
              "    </tr>\n",
              "    <tr>\n",
              "      <th>15</th>\n",
              "      <td>free_bestwestern_hotel_sfo</td>\n",
              "      <td>...</td>\n",
              "      <td>2</td>\n",
              "    </tr>\n",
              "    <tr>\n",
              "      <th>32</th>\n",
              "      <td>room_holiday_inn_london</td>\n",
              "      <td>...</td>\n",
              "      <td>2</td>\n",
              "    </tr>\n",
              "    <tr>\n",
              "      <th>31</th>\n",
              "      <td>rooms_swissotel_chicago</td>\n",
              "      <td>...</td>\n",
              "      <td>2</td>\n",
              "    </tr>\n",
              "    <tr>\n",
              "      <th>39</th>\n",
              "      <td>service_holiday_inn_london</td>\n",
              "      <td>...</td>\n",
              "      <td>2</td>\n",
              "    </tr>\n",
              "    <tr>\n",
              "      <th>40</th>\n",
              "      <td>service_swissotel_hotel_chicago</td>\n",
              "      <td>...</td>\n",
              "      <td>2</td>\n",
              "    </tr>\n",
              "  </tbody>\n",
              "</table>\n",
              "</div>"
            ],
            "text/plain": [
              "                           filename  \\\n",
              "0     accuracy_garmin_nuvi_255W_gps   \n",
              "48     updates_garmin_nuvi_255W_gps   \n",
              "44                   speed_windows7   \n",
              "43       speed_garmin_nuvi_255W_gps   \n",
              "42              sound_ipod_nano_8gb   \n",
              "41         size_asus_netbook_1005ha   \n",
              "36            screen_netbook_1005ha   \n",
              "35             screen_ipod_nano_8gb   \n",
              "34      screen_garmin_nuvi_255W_gps   \n",
              "33   satellite_garmin_nuvi_255W_gps   \n",
              "27              price_amazon_kindle   \n",
              "26       performance_netbook_1005ha   \n",
              "49              video_ipod_nano_8gb   \n",
              "23         navigation_amazon_kindle   \n",
              "19          keyboard_netbook_1005ha   \n",
              "50       voice_garmin_nuvi_255W_gps   \n",
              "9      display_garmin_nuvi_255W_gps   \n",
              "2        battery-life_amazon_kindle   \n",
              "3        battery-life_ipod_nano_8gb   \n",
              "4       battery-life_netbook_1005ha   \n",
              "5             buttons_amazon_kindle   \n",
              "12              fonts_amazon_kindle   \n",
              "11                features_windows7   \n",
              "10    eyesight-issues_amazon_kindle   \n",
              "8   directions_garmin_nuvi_255W_gps   \n",
              "47   transmission_toyota_camry_2007   \n",
              "37          seats_honda_accord_2008   \n",
              "6         comfort_honda_accord_2008   \n",
              "7         comfort_toyota_camry_2007   \n",
              "16    gas_mileage_toyota_camry_2007   \n",
              "25    performance_honda_accord_2008   \n",
              "17       interior_honda_accord_2008   \n",
              "18       interior_toyota_camry_2007   \n",
              "22        mileage_honda_accord_2008   \n",
              "29        quality_toyota_camry_2007   \n",
              "1    bathroom_bestwestern_hotel_sfo   \n",
              "46          staff_swissotel_chicago   \n",
              "45      staff_bestwestern_hotel_sfo   \n",
              "14           food_swissotel_chicago   \n",
              "20   location_bestwestern_hotel_sfo   \n",
              "21      location_holiday_inn_london   \n",
              "30      rooms_bestwestern_hotel_sfo   \n",
              "38    service_bestwestern_hotel_sfo   \n",
              "13          food_holiday_inn_london   \n",
              "24    parking_bestwestern_hotel_sfo   \n",
              "28         price_holiday_inn_london   \n",
              "15       free_bestwestern_hotel_sfo   \n",
              "32          room_holiday_inn_london   \n",
              "31          rooms_swissotel_chicago   \n",
              "39       service_holiday_inn_london   \n",
              "40  service_swissotel_hotel_chicago   \n",
              "\n",
              "                                         opinion_text  cluster_label  \n",
              "0                                                 ...              0  \n",
              "48                                                ...              0  \n",
              "44                                                ...              0  \n",
              "43                                                ...              0  \n",
              "42      headphone jack i got a clear case for it a...              0  \n",
              "41                                                ...              0  \n",
              "36                                                ...              0  \n",
              "35                                                ...              0  \n",
              "34                                                ...              0  \n",
              "33                                                ...              0  \n",
              "27                                                ...              0  \n",
              "26                                                ...              0  \n",
              "49                                                ...              0  \n",
              "23                                                ...              0  \n",
              "19                                                ...              0  \n",
              "50                                                ...              0  \n",
              "9                                                 ...              0  \n",
              "2                                                 ...              0  \n",
              "3                                                 ...              0  \n",
              "4                                                 ...              0  \n",
              "5                                                 ...              0  \n",
              "12                                                ...              0  \n",
              "11                                                ...              0  \n",
              "10                                                ...              0  \n",
              "8                                                 ...              0  \n",
              "47                                                ...              1  \n",
              "37                                                ...              1  \n",
              "6                                                 ...              1  \n",
              "7                                                 ...              1  \n",
              "16                                                ...              1  \n",
              "25                                                ...              1  \n",
              "17                                                ...              1  \n",
              "18                                                ...              1  \n",
              "22                                                ...              1  \n",
              "29                                                ...              1  \n",
              "1                                                 ...              2  \n",
              "46                                                ...              2  \n",
              "45                                                ...              2  \n",
              "14                                                ...              2  \n",
              "20                                                ...              2  \n",
              "21                                                ...              2  \n",
              "30                                                ...              2  \n",
              "38                                                ...              2  \n",
              "13                                                ...              2  \n",
              "24                                                ...              2  \n",
              "28                                                ...              2  \n",
              "15                                                ...              2  \n",
              "32                                                ...              2  \n",
              "31                                                ...              2  \n",
              "39                                                ...              2  \n",
              "40                                                ...              2  "
            ]
          },
          "execution_count": 16,
          "metadata": {},
          "output_type": "execute_result"
        }
      ],
      "source": [
        "# 군집의 중심 개수를 5개에서 3개로 변경\n",
        "from sklearn.cluster import KMeans\n",
        "\n",
        "# 3개의 집합으로 군집화\n",
        "km_cluster = KMeans(n_clusters=3, max_iter=10000, random_state=0)\n",
        "km_cluster.fit(feature_vect)\n",
        "cluster_label = km_cluster.labels_\n",
        "cluster_centers = km_cluster.cluster_centers_\n",
        "\n",
        "# 소속 군집을 cluster_label 칼럼으로 할당하고 cluster_label 값으로 정렬\n",
        "document_df['cluster_label'] = cluster_label\n",
        "document_df.sort_values(by='cluster_label')"
      ]
    },
    {
      "cell_type": "code",
      "execution_count": null,
      "id": "9dbaf1e6",
      "metadata": {
        "id": "9dbaf1e6",
        "outputId": "544ef1d5-9b0d-4ad4-f42e-70ddb93795a5"
      },
      "outputs": [
        {
          "name": "stdout",
          "output_type": "stream",
          "text": [
            "cluster_centers shale : (3, 4611)\n",
            "[[0.01005322 0.         0.         ... 0.00706287 0.         0.        ]\n",
            " [0.         0.00092551 0.         ... 0.         0.         0.        ]\n",
            " [0.         0.00099499 0.00174637 ... 0.         0.00183397 0.00144581]]\n"
          ]
        }
      ],
      "source": [
        "cluster_centers = km_cluster.cluster_centers_\n",
        "print('cluster_centers shale :', cluster_centers.shape)\n",
        "print(cluster_centers)"
      ]
    },
    {
      "cell_type": "code",
      "execution_count": null,
      "id": "68dc83a1",
      "metadata": {
        "id": "68dc83a1"
      },
      "outputs": [],
      "source": [
        "# 군집별 top n 핵심 단어, 그 단어의 중심 위치 상댓값, 대상 파일명을 반환함.\n",
        "def get_cluster_details(cluster_model, cluster_data, feature_names, clusters_num, top_n_features=10):\n",
        "    cluster_details={}\n",
        "\n",
        "    # cluster_centers array의 값이 큰 순으로 정렬된 인덱스 값을 반환\n",
        "    # 군집 중심점(centroid)별 할당된 word 피처들의 거리값이 큰 순으로 값을 구하기 위함.\n",
        "    centroid_feature_ordered_ind = cluster_model.cluster_centers_.argsort()[:,::-1]\n",
        "\n",
        "    # 개별 군집별로 반복하면서 핵심 단어, 그 단어의 중심 위치 상댓값, 대상 파일명 입력\n",
        "    for cluster_num in range(clusters_num):\n",
        "        # 개별 군집별 정보를 담을 데이터 초기화.\n",
        "        cluster_details[cluster_num] = {}\n",
        "        cluster_details[cluster_num]['cluster'] = cluster_num\n",
        "\n",
        "        # cluster_centers_argsort()[:,::-1]로 구한 인덱스를 이용해 top n 피처 단어를 구함.\n",
        "        top_feature_indexes = centroid_feature_ordered_ind[cluster_num, :top_n_features]\n",
        "        top_features = [feature_names[ind] for ind in top_feature_indexes]\n",
        "\n",
        "        # top_feature_indexes를 이용해 해당 피처 단어의 중심 위치 상댓값 구함.\n",
        "        top_feature_values = cluster_model.cluster_centers_[cluster_num, top_feature_indexes].tolist()\n",
        "\n",
        "        # cluster_details 딕셔너리 객체에 개별 군집별 핵심단어와 중심위치 상댓값, 해당 파일명 입력\n",
        "        cluster_details[cluster_num]['top_features'] = top_features\n",
        "        cluster_details[cluster_num]['top_features_value'] = top_feature_values\n",
        "        filenames = cluster_data[cluster_data['cluster_label']==cluster_num]['filename']\n",
        "        filenames = filenames.values.tolist()\n",
        "\n",
        "        cluster_details[cluster_num]['filenames'] = filenames\n",
        "    return cluster_details"
      ]
    },
    {
      "cell_type": "code",
      "execution_count": null,
      "id": "221386fc",
      "metadata": {
        "id": "221386fc"
      },
      "outputs": [],
      "source": [
        "def print_cluster_details(cluster_details):\n",
        "    for cluster_num, cluster_detail in cluster_details.items():\n",
        "        print('###### Cluster {0}'.format(cluster_num))\n",
        "        print('Top features:', cluster_detail['top_features'])\n",
        "        print('Reviews 파일명 :', cluster_detail['filenames'][:7])\n",
        "        print('===============================================')"
      ]
    },
    {
      "cell_type": "code",
      "execution_count": null,
      "id": "aeca35f2",
      "metadata": {
        "id": "aeca35f2",
        "outputId": "371df2ca-f37b-4c30-ce07-a88b168243ef"
      },
      "outputs": [
        {
          "name": "stdout",
          "output_type": "stream",
          "text": [
            "###### Cluster 0\n",
            "Top features: ['screen', 'battery', 'keyboard', 'battery life', 'life', 'kindle', 'direction', 'video', 'size', 'voice']\n",
            "Reviews 파일명 : ['accuracy_garmin_nuvi_255W_gps', 'battery-life_amazon_kindle', 'battery-life_ipod_nano_8gb', 'battery-life_netbook_1005ha', 'buttons_amazon_kindle', 'directions_garmin_nuvi_255W_gps', 'display_garmin_nuvi_255W_gps']\n",
            "===============================================\n",
            "###### Cluster 1\n",
            "Top features: ['interior', 'seat', 'mileage', 'comfortable', 'gas', 'gas mileage', 'transmission', 'car', 'performance', 'quality']\n",
            "Reviews 파일명 : ['comfort_honda_accord_2008', 'comfort_toyota_camry_2007', 'gas_mileage_toyota_camry_2007', 'interior_honda_accord_2008', 'interior_toyota_camry_2007', 'mileage_honda_accord_2008', 'performance_honda_accord_2008']\n",
            "===============================================\n",
            "###### Cluster 2\n",
            "Top features: ['room', 'hotel', 'service', 'staff', 'food', 'location', 'bathroom', 'clean', 'price', 'parking']\n",
            "Reviews 파일명 : ['bathroom_bestwestern_hotel_sfo', 'food_holiday_inn_london', 'food_swissotel_chicago', 'free_bestwestern_hotel_sfo', 'location_bestwestern_hotel_sfo', 'location_holiday_inn_london', 'parking_bestwestern_hotel_sfo']\n",
            "===============================================\n"
          ]
        }
      ],
      "source": [
        "feature_names = tfidf_vect.get_feature_names_out()\n",
        "\n",
        "cluster_details = get_cluster_details(cluster_model = km_cluster, cluster_data=document_df,\n",
        "                                     feature_names=feature_names, clusters_num=3, top_n_features=10)\n",
        "print_cluster_details(cluster_details)"
      ]
    },
    {
      "cell_type": "markdown",
      "id": "6aea3bb7",
      "metadata": {
        "id": "6aea3bb7"
      },
      "source": [
        "## 8.10 텍스트 분석 실습 - 캐글 Mercari Price Suggestion Challenge"
      ]
    },
    {
      "cell_type": "code",
      "execution_count": null,
      "id": "b7b7fbaf",
      "metadata": {
        "id": "b7b7fbaf",
        "outputId": "00c30040-133d-4377-ae0c-70d0851a797b"
      },
      "outputs": [
        {
          "name": "stdout",
          "output_type": "stream",
          "text": [
            "(1482535, 8)\n"
          ]
        },
        {
          "data": {
            "text/html": [
              "<div>\n",
              "<style scoped>\n",
              "    .dataframe tbody tr th:only-of-type {\n",
              "        vertical-align: middle;\n",
              "    }\n",
              "\n",
              "    .dataframe tbody tr th {\n",
              "        vertical-align: top;\n",
              "    }\n",
              "\n",
              "    .dataframe thead th {\n",
              "        text-align: right;\n",
              "    }\n",
              "</style>\n",
              "<table border=\"1\" class=\"dataframe\">\n",
              "  <thead>\n",
              "    <tr style=\"text-align: right;\">\n",
              "      <th></th>\n",
              "      <th>train_id</th>\n",
              "      <th>name</th>\n",
              "      <th>item_condition_id</th>\n",
              "      <th>category_name</th>\n",
              "      <th>brand_name</th>\n",
              "      <th>price</th>\n",
              "      <th>shipping</th>\n",
              "      <th>item_description</th>\n",
              "    </tr>\n",
              "  </thead>\n",
              "  <tbody>\n",
              "    <tr>\n",
              "      <th>0</th>\n",
              "      <td>0</td>\n",
              "      <td>MLB Cincinnati Reds T Shirt Size XL</td>\n",
              "      <td>3</td>\n",
              "      <td>Men/Tops/T-shirts</td>\n",
              "      <td>NaN</td>\n",
              "      <td>10.0</td>\n",
              "      <td>1</td>\n",
              "      <td>No description yet</td>\n",
              "    </tr>\n",
              "    <tr>\n",
              "      <th>1</th>\n",
              "      <td>1</td>\n",
              "      <td>Razer BlackWidow Chroma Keyboard</td>\n",
              "      <td>3</td>\n",
              "      <td>Electronics/Computers &amp; Tablets/Components &amp; P...</td>\n",
              "      <td>Razer</td>\n",
              "      <td>52.0</td>\n",
              "      <td>0</td>\n",
              "      <td>This keyboard is in great condition and works ...</td>\n",
              "    </tr>\n",
              "    <tr>\n",
              "      <th>2</th>\n",
              "      <td>2</td>\n",
              "      <td>AVA-VIV Blouse</td>\n",
              "      <td>1</td>\n",
              "      <td>Women/Tops &amp; Blouses/Blouse</td>\n",
              "      <td>Target</td>\n",
              "      <td>10.0</td>\n",
              "      <td>1</td>\n",
              "      <td>Adorable top with a hint of lace and a key hol...</td>\n",
              "    </tr>\n",
              "  </tbody>\n",
              "</table>\n",
              "</div>"
            ],
            "text/plain": [
              "   train_id                                 name  item_condition_id  \\\n",
              "0         0  MLB Cincinnati Reds T Shirt Size XL                  3   \n",
              "1         1     Razer BlackWidow Chroma Keyboard                  3   \n",
              "2         2                       AVA-VIV Blouse                  1   \n",
              "\n",
              "                                       category_name brand_name  price  \\\n",
              "0                                  Men/Tops/T-shirts        NaN   10.0   \n",
              "1  Electronics/Computers & Tablets/Components & P...      Razer   52.0   \n",
              "2                        Women/Tops & Blouses/Blouse     Target   10.0   \n",
              "\n",
              "   shipping                                   item_description  \n",
              "0         1                                 No description yet  \n",
              "1         0  This keyboard is in great condition and works ...  \n",
              "2         1  Adorable top with a hint of lace and a key hol...  "
            ]
          },
          "execution_count": 24,
          "metadata": {},
          "output_type": "execute_result"
        }
      ],
      "source": [
        "from sklearn.linear_model import Ridge, LogisticRegression\n",
        "from sklearn.model_selection import train_test_split, cross_val_score\n",
        "from sklearn.feature_extraction.text import CountVectorizer, TfidfVectorizer\n",
        "import pandas as pd\n",
        "\n",
        "mercari_df = pd.read_csv('C:/Users/Kim/Downloads/train.tsv/train.tsv', sep='\\t')\n",
        "print(mercari_df.shape)\n",
        "mercari_df.head(3)"
      ]
    },
    {
      "cell_type": "code",
      "execution_count": null,
      "id": "c8f4dfb8",
      "metadata": {
        "id": "c8f4dfb8",
        "outputId": "b8e48fd8-c527-4378-f8c7-20b8610ce6ff"
      },
      "outputs": [
        {
          "name": "stdout",
          "output_type": "stream",
          "text": [
            "<class 'pandas.core.frame.DataFrame'>\n",
            "RangeIndex: 1482535 entries, 0 to 1482534\n",
            "Data columns (total 8 columns):\n",
            " #   Column             Non-Null Count    Dtype  \n",
            "---  ------             --------------    -----  \n",
            " 0   train_id           1482535 non-null  int64  \n",
            " 1   name               1482535 non-null  object \n",
            " 2   item_condition_id  1482535 non-null  int64  \n",
            " 3   category_name      1476208 non-null  object \n",
            " 4   brand_name         849853 non-null   object \n",
            " 5   price              1482535 non-null  float64\n",
            " 6   shipping           1482535 non-null  int64  \n",
            " 7   item_description   1482531 non-null  object \n",
            "dtypes: float64(1), int64(3), object(4)\n",
            "memory usage: 90.5+ MB\n",
            "None\n"
          ]
        }
      ],
      "source": [
        "print(mercari_df.info())"
      ]
    },
    {
      "cell_type": "code",
      "execution_count": null,
      "id": "487f2f8d",
      "metadata": {
        "id": "487f2f8d",
        "outputId": "23bef74b-3b02-4fe6-d654-a354936330aa"
      },
      "outputs": [
        {
          "name": "stderr",
          "output_type": "stream",
          "text": [
            "C:\\Users\\Kim\\anaconda3\\lib\\site-packages\\seaborn\\distributions.py:2619: FutureWarning: `distplot` is a deprecated function and will be removed in a future version. Please adapt your code to use either `displot` (a figure-level function with similar flexibility) or `histplot` (an axes-level function for histograms).\n",
            "  warnings.warn(msg, FutureWarning)\n"
          ]
        },
        {
          "data": {
            "text/plain": [
              "<AxesSubplot:xlabel='price'>"
            ]
          },
          "execution_count": 26,
          "metadata": {},
          "output_type": "execute_result"
        },
        {
          "data": {
            "image/png": "[encoded data removed]",
            "text/plain": [
              "<Figure size 600x400 with 1 Axes>"
            ]
          },
          "metadata": {},
          "output_type": "display_data"
        }
      ],
      "source": [
        "import matplotlib.pyplot as plt\n",
        "import seaborn as sns\n",
        "%matplotlib inline\n",
        "\n",
        "y_train_df = mercari_df['price']\n",
        "plt.figure(figsize=(6,4))\n",
        "sns.distplot(y_train_df, kde=False)"
      ]
    },
    {
      "cell_type": "code",
      "execution_count": null,
      "id": "e6b10b65",
      "metadata": {
        "id": "e6b10b65",
        "outputId": "cc915bd8-75e5-40b6-b845-86f7b2fd172f"
      },
      "outputs": [
        {
          "data": {
            "text/plain": [
              "<AxesSubplot:xlabel='price'>"
            ]
          },
          "execution_count": 27,
          "metadata": {},
          "output_type": "execute_result"
        },
        {
          "data": {
            "image/png": "[encoded data removed]",
            "text/plain": [
              "<Figure size 640x480 with 1 Axes>"
            ]
          },
          "metadata": {},
          "output_type": "display_data"
        }
      ],
      "source": [
        "# 왜곡되어 있으므로 log 값으로 변환\n",
        "import numpy as np\n",
        "\n",
        "y_train_df = np.log1p(y_train_df)\n",
        "sns.distplot(y_train_df, kde=False)"
      ]
    },
    {
      "cell_type": "code",
      "execution_count": null,
      "id": "5062efe1",
      "metadata": {
        "id": "5062efe1",
        "outputId": "b5769a64-9931-459b-baa1-4996b45828ff"
      },
      "outputs": [
        {
          "data": {
            "text/plain": [
              "0    2.397895\n",
              "1    3.970292\n",
              "2    2.397895\n",
              "Name: price, dtype: float64"
            ]
          },
          "execution_count": 28,
          "metadata": {},
          "output_type": "execute_result"
        }
      ],
      "source": [
        "mercari_df['price'] = np.log1p(mercari_df['price'])\n",
        "mercari_df['price'].head(3)"
      ]
    },
    {
      "cell_type": "code",
      "execution_count": null,
      "id": "831f4e2e",
      "metadata": {
        "id": "831f4e2e",
        "outputId": "bf305010-89aa-442e-c2b9-b8f9f8a4d00e"
      },
      "outputs": [
        {
          "name": "stdout",
          "output_type": "stream",
          "text": [
            "Shipping 값 유형:\n",
            " 0    819435\n",
            "1    663100\n",
            "Name: shipping, dtype: int64\n",
            "item_condition_id 값 유형:\n",
            " 1    640549\n",
            "3    432161\n",
            "2    375479\n",
            "4     31962\n",
            "5      2384\n",
            "Name: item_condition_id, dtype: int64\n"
          ]
        }
      ],
      "source": [
        "# shipping: 배송비 유무\n",
        "# item_condition_id: 판매자가 제공하는 제품 상태\n",
        "print('Shipping 값 유형:\\n', mercari_df['shipping'].value_counts())\n",
        "print('item_condition_id 값 유형:\\n', mercari_df['item_condition_id'].value_counts())"
      ]
    },
    {
      "cell_type": "code",
      "execution_count": null,
      "id": "1887bcc8",
      "metadata": {
        "id": "1887bcc8",
        "outputId": "b1a52784-4280-4555-dd7b-a8b899c9328c"
      },
      "outputs": [
        {
          "data": {
            "text/plain": [
              "82489"
            ]
          },
          "execution_count": 30,
          "metadata": {},
          "output_type": "execute_result"
        }
      ],
      "source": [
        "# 별도 설명이 없는 경우\n",
        "boolean_cond = mercari_df['item_description']=='No description yet'\n",
        "mercari_df[boolean_cond]['item_description'].count()"
      ]
    },
    {
      "cell_type": "code",
      "execution_count": null,
      "id": "f1674d23",
      "metadata": {
        "id": "f1674d23",
        "outputId": "6e111189-4dd1-4cd0-b3fe-543fb4e80555"
      },
      "outputs": [
        {
          "name": "stdout",
          "output_type": "stream",
          "text": [
            "대분류 유형 :\n",
            " Women                     664385\n",
            "Beauty                    207828\n",
            "Kids                      171689\n",
            "Electronics               122690\n",
            "Men                        93680\n",
            "Home                       67871\n",
            "Vintage & Collectibles     46530\n",
            "Other                      45351\n",
            "Handmade                   30842\n",
            "Sports & Outdoors          25342\n",
            "Other_Null                  6327\n",
            "Name: cat_dae, dtype: int64\n",
            "중분류 개수 : 114\n",
            "소분류 개수 : 871\n"
          ]
        }
      ],
      "source": [
        "# apply lambda에서 호출되는 대, 중, 소 분할 함수 생성, 대, 중, 소 값을 리스트로 반환\n",
        "def split_cat(category_name):\n",
        "    try:\n",
        "        return category_name.split('/')\n",
        "    except:\n",
        "        return ['Other_Null','Other_Null','Other_Null']\n",
        "\n",
        "# 위의 split_cat()을 apply lambda에서 호출해 대, 중, 소 칼럼을 mercari_df에 생성.\n",
        "mercari_df['cat_dae'], mercari_df['cat_jung'], mercari_df['cat_so'] = \\\n",
        "zip(*mercari_df['category_name'].apply(lambda x: split_cat(x)))\n",
        "\n",
        "# 대분류만 값의 유형과 건수를 살펴보고, 중분류, 소분류는 값의 유형이 많으므로 분류 개수만 추출\n",
        "print('대분류 유형 :\\n', mercari_df['cat_dae'].value_counts())\n",
        "print('중분류 개수 :', mercari_df['cat_jung'].nunique())\n",
        "print('소분류 개수 :', mercari_df['cat_so'].nunique())"
      ]
    },
    {
      "cell_type": "code",
      "execution_count": null,
      "id": "59ae38b4",
      "metadata": {
        "id": "59ae38b4",
        "outputId": "928d946b-0804-4415-83d9-ad5c2d8c6fb4"
      },
      "outputs": [
        {
          "data": {
            "text/plain": [
              "train_id             0\n",
              "name                 0\n",
              "item_condition_id    0\n",
              "category_name        0\n",
              "brand_name           0\n",
              "price                0\n",
              "shipping             0\n",
              "item_description     0\n",
              "cat_dae              0\n",
              "cat_jung             0\n",
              "cat_so               0\n",
              "dtype: int64"
            ]
          },
          "execution_count": 32,
          "metadata": {},
          "output_type": "execute_result"
        }
      ],
      "source": [
        "mercari_df['brand_name'] = mercari_df['brand_name'].fillna(value='Other_Null')\n",
        "mercari_df['category_name'] = mercari_df['category_name'].fillna(value='Other_Null')\n",
        "mercari_df['item_description'] = mercari_df['item_description'].fillna(value='Other_Null')\n",
        "\n",
        "# 각 칼럼별로 Null 값 건수 확인. 모두 0이 나와야 합니다.\n",
        "mercari_df.isnull().sum()"
      ]
    },
    {
      "cell_type": "markdown",
      "id": "22c627a0",
      "metadata": {
        "id": "22c627a0"
      },
      "source": [
        "#### 피처 인코딩과 피처 벡터화"
      ]
    },
    {
      "cell_type": "code",
      "execution_count": null,
      "id": "b3b68d11",
      "metadata": {
        "id": "b3b68d11",
        "outputId": "27f6c48d-7328-4263-f1ab-34b164023dc6"
      },
      "outputs": [
        {
          "name": "stdout",
          "output_type": "stream",
          "text": [
            "brand name의 유형 건수 : 4810\n",
            "brand name sample 5건 : \n",
            " Other_Null           632682\n",
            "PINK                  54088\n",
            "Nike                  54043\n",
            "Victoria's Secret     48036\n",
            "LuLaRoe               31024\n",
            "Name: brand_name, dtype: int64\n"
          ]
        }
      ],
      "source": [
        "# 원-핫 인코딩 변환할 것\n",
        "print('brand name의 유형 건수 :',mercari_df['brand_name'].nunique())\n",
        "print('brand name sample 5건 : \\n', mercari_df['brand_name'].value_counts()[:5])"
      ]
    },
    {
      "cell_type": "code",
      "execution_count": null,
      "id": "858d495a",
      "metadata": {
        "id": "858d495a",
        "outputId": "f26aab1e-7b7c-416f-c05f-44a982633579"
      },
      "outputs": [
        {
          "name": "stdout",
          "output_type": "stream",
          "text": [
            "name의 종류 개수 : 1225273\n",
            "name sample 10건 : \n",
            " 0       MLB Cincinnati Reds T Shirt Size XL\n",
            "1          Razer BlackWidow Chroma Keyboard\n",
            "2                            AVA-VIV Blouse\n",
            "3                     Leather Horse Statues\n",
            "4                      24K GOLD plated rose\n",
            "5          Bundled items requested for Ruie\n",
            "6        Acacia pacific tides santorini top\n",
            "7      Girls cheer and tumbling bundle of 7\n",
            "8                     Girls Nike Pro shorts\n",
            "9    Porcelain clown doll checker pants VTG\n",
            "Name: name, dtype: object\n"
          ]
        }
      ],
      "source": [
        "# 유형이 많고 단어 위주 텍스트 형태이므로 Count 기반의 피처 벡터화 변환\n",
        "print('name의 종류 개수 :', mercari_df['name'].nunique())\n",
        "print('name sample 10건 : \\n', mercari_df['name'][:10])"
      ]
    },
    {
      "cell_type": "code",
      "execution_count": null,
      "id": "e8ba4d14",
      "metadata": {
        "id": "e8ba4d14",
        "outputId": "1b0ae7f7-8f6f-41e1-8a60-fe1052634fe3"
      },
      "outputs": [
        {
          "name": "stdout",
          "output_type": "stream",
          "text": [
            "item_description의 평균 문자열 크기: 145.7113889385411\n"
          ]
        },
        {
          "data": {
            "text/plain": [
              "0                                                                                                                                                                              No description yet\n",
              "1    This keyboard is in great condition and works like it came out of the box. All of the ports are tested and work perfectly. The lights are customizable via the Razer Synapse app on your PC.\n",
              "Name: item_description, dtype: object"
            ]
          },
          "execution_count": 35,
          "metadata": {},
          "output_type": "execute_result"
        }
      ],
      "source": [
        "# 평균 문자열이 크므로 TF-IDF 변환\n",
        "pd.set_option('max_colwidth', 200)\n",
        "\n",
        "# item_description의 평균 문자열 크기\n",
        "print('item_description의 평균 문자열 크기:', mercari_df['item_description'].str.len().mean())\n",
        "\n",
        "mercari_df['item_description'][:2]"
      ]
    },
    {
      "cell_type": "code",
      "execution_count": null,
      "id": "b4732a79",
      "metadata": {
        "id": "b4732a79",
        "outputId": "c623e4ce-8c4b-4282-b76b-51e8437d517e"
      },
      "outputs": [
        {
          "name": "stdout",
          "output_type": "stream",
          "text": [
            "name vectorization shape: (1482535, 105757)\n",
            "item_description vectorization shape:  (1482535, 50000)\n"
          ]
        }
      ],
      "source": [
        "# name 속성에 대한 피처 벡터화 변환\n",
        "cnt_vet = CountVectorizer()\n",
        "X_name = cnt_vet.fit_transform(mercari_df.name)\n",
        "\n",
        "# item_description에 대한 피처 벡터화 변환\n",
        "tfidf_descp = TfidfVectorizer(max_features=50000, ngram_range=(1,3), stop_words='english')\n",
        "X_descp = tfidf_descp.fit_transform(mercari_df['item_description'])\n",
        "\n",
        "print('name vectorization shape:', X_name.shape)\n",
        "print('item_description vectorization shape: ', X_descp.shape)"
      ]
    },
    {
      "cell_type": "code",
      "execution_count": null,
      "id": "ac50cdf7",
      "metadata": {
        "id": "ac50cdf7"
      },
      "outputs": [],
      "source": [
        "from sklearn.preprocessing import LabelBinarizer\n",
        "\n",
        "# brand_name, item_condition_id, shipping 각 피처들을 희소 행렬 원-핫 인코딩 변환\n",
        "lb_brand_name = LabelBinarizer(sparse_output=True)\n",
        "X_brand = lb_brand_name.fit_transform(mercari_df['brand_name'])\n",
        "lb_item_cond_id = LabelBinarizer(sparse_output=True)\n",
        "X_item_cond_id = lb_item_cond_id.fit_transform(mercari_df['item_condition_id'])\n",
        "lb_shipping = LabelBinarizer(sparse_output=True)\n",
        "X_shipping = lb_shipping.fit_transform(mercari_df['shipping'])\n",
        "\n",
        "# cat_dae, cat_jung, cat_so 각 피처들을 희소 행렬 원-핫 인코딩 변환\n",
        "lb_cat_dae = LabelBinarizer(sparse_output=True)\n",
        "X_cat_dae = lb_cat_dae.fit_transform(mercari_df['cat_dae'])\n",
        "lb_cat_jung = LabelBinarizer(sparse_output=True)\n",
        "X_cat_jung = lb_cat_jung.fit_transform(mercari_df['cat_jung'])\n",
        "lb_cat_so = LabelBinarizer(sparse_output=True)\n",
        "X_cat_so = lb_cat_so.fit_transform(mercari_df['cat_so'])"
      ]
    },
    {
      "cell_type": "code",
      "execution_count": null,
      "id": "24ffebf5",
      "metadata": {
        "id": "24ffebf5",
        "outputId": "afa59e29-1fd0-4882-abaf-36ff812ca6cb"
      },
      "outputs": [
        {
          "name": "stdout",
          "output_type": "stream",
          "text": [
            "<class 'scipy.sparse._csr.csr_matrix'> <class 'scipy.sparse._csr.csr_matrix'> <class 'scipy.sparse._csr.csr_matrix'>\n",
            "X_brand shape:(1482535, 4810), X_item_cond_id shape:(1482535, 5)\n",
            "X_shipping shape:(1482535, 1), X_cat_dae shape:(1482535, 11)\n",
            "X_cat_jung shape:(1482535, 114), X_cat_so shape:(1482535, 871)\n"
          ]
        }
      ],
      "source": [
        "print(type(X_brand), type(X_item_cond_id), type(X_shipping))\n",
        "print('X_brand shape:{0}, X_item_cond_id shape:{1}'.format(X_brand.shape, X_item_cond_id.shape))\n",
        "print('X_shipping shape:{0}, X_cat_dae shape:{1}'.format(X_shipping.shape, X_cat_dae.shape))\n",
        "print('X_cat_jung shape:{0}, X_cat_so shape:{1}'.format(X_cat_jung.shape, X_cat_so.shape))"
      ]
    },
    {
      "cell_type": "code",
      "execution_count": null,
      "id": "020ad2a7",
      "metadata": {
        "id": "020ad2a7",
        "outputId": "4e833ff6-b7f4-4f97-c24a-e5d51575511a"
      },
      "outputs": [
        {
          "name": "stdout",
          "output_type": "stream",
          "text": [
            "<class 'scipy.sparse._csr.csr_matrix'> (1482535, 161569)\n"
          ]
        },
        {
          "data": {
            "text/plain": [
              "0"
            ]
          },
          "execution_count": 39,
          "metadata": {},
          "output_type": "execute_result"
        }
      ],
      "source": [
        "from scipy.sparse import hstack\n",
        "import gc\n",
        "\n",
        "sparse_matrix_list = (X_name, X_descp, X_brand, X_item_cond_id, \\\n",
        "                     X_shipping, X_cat_dae, X_cat_jung, X_cat_so)\n",
        "\n",
        "# hstack 함수를 이용해 인코딩과 벡터화를 수행한 데이터 세트를 모두 결합.\n",
        "X_features_sparse = hstack(sparse_matrix_list).tocsr()\n",
        "print(type(X_features_sparse), X_features_sparse.shape)\n",
        "\n",
        "# 데이터 세트가 메모리를 많이 차지하므로 사용 목적이 끝났으면 바로 메모리에서 삭제.\n",
        "del X_features_sparse\n",
        "gc.collect()"
      ]
    },
    {
      "cell_type": "markdown",
      "id": "64825c70",
      "metadata": {
        "id": "64825c70"
      },
      "source": [
        "#### 릿지 회귀 모델 구축 및 평가"
      ]
    },
    {
      "cell_type": "code",
      "execution_count": null,
      "id": "967ea121",
      "metadata": {
        "id": "967ea121"
      },
      "outputs": [],
      "source": [
        "def rmsle(y, y_pred):\n",
        "    # underflow, overflow를 막기 위해 log가 아닌 log1p로 rmsle 계산\n",
        "    return np.sqrt(np.mean(np.power(np.log1p(y)-np.log1p(y_pred),2)))\n",
        "\n",
        "def evaluate_org_price(y_test, preds):\n",
        "\n",
        "    # 원본 데이터는 log1p로 변환되었으므로 exmpm1로 원복 필요.\n",
        "    preds_exmpm = np.expm1(preds)\n",
        "    y_test_exmpm = np.expm1(y_test)\n",
        "\n",
        "    # rmsle로 RMSLE 값 추출\n",
        "    rmsle_result = rmsle(y_test_exmpm, preds_exmpm)\n",
        "    return rmsle_result"
      ]
    },
    {
      "cell_type": "code",
      "execution_count": null,
      "id": "da280c02",
      "metadata": {
        "id": "da280c02"
      },
      "outputs": [],
      "source": [
        "import gc\n",
        "from scipy.sparse import hstack\n",
        "\n",
        "def model_train_predict(model, matrix_list):\n",
        "    # scipy.sparse 모듈의 hstack을 이용해 희소 행렬 결합\n",
        "    X = hstack(matrix_list).tocsr()\n",
        "\n",
        "    X_train, X_test, y_train, y_test = train_test_split(X, mercari_df['price'],\n",
        "                                                       test_size=0.2, random_state=156)\n",
        "\n",
        "    # 모델 학습 및 예측\n",
        "    model.fit(X_train, y_train)\n",
        "    preds = model.predict(X_test)\n",
        "\n",
        "    del X, X_train, X_test, y_train\n",
        "    gc.collect()\n",
        "\n",
        "    return preds, y_test"
      ]
    },
    {
      "cell_type": "code",
      "execution_count": null,
      "id": "a984e4ce",
      "metadata": {
        "id": "a984e4ce",
        "outputId": "4e229503-3bc5-4247-cee8-218175a65fcf"
      },
      "outputs": [
        {
          "name": "stdout",
          "output_type": "stream",
          "text": [
            "Item Dexcription을 제외했을 때 rmsle 값: 0.5021755915142884\n",
            "Item Description을 포함한 rmsle 값: 0.47122050162456774\n"
          ]
        }
      ],
      "source": [
        "linear_model = Ridge(solver='lsqr', fit_intercept=False)\n",
        "\n",
        "sparse_matrix_list = (X_name, X_brand, X_item_cond_id, \\\n",
        "                     X_shipping, X_cat_dae, X_cat_jung, X_cat_so)\n",
        "linear_preds, y_test = model_train_predict(model=linear_model, matrix_list = sparse_matrix_list)\n",
        "print('Item Dexcription을 제외했을 때 rmsle 값:', evaluate_org_price(y_test, linear_preds))\n",
        "\n",
        "sparse_matrix_list = (X_descp, X_name, X_brand, X_item_cond_id, \\\n",
        "                     X_shipping, X_cat_dae, X_cat_jung, X_cat_so)\n",
        "linear_preds, y_test = model_train_predict(model=linear_model, matrix_list = sparse_matrix_list)\n",
        "print('Item Description을 포함한 rmsle 값:', evaluate_org_price(y_test, linear_preds))"
      ]
    },
    {
      "cell_type": "markdown",
      "id": "9b34f8b4",
      "metadata": {
        "id": "9b34f8b4"
      },
      "source": [
        "#### LightGBM 회귀 모델 구축과 앙상블을 이용한 최종 예측 평가"
      ]
    },
    {
      "cell_type": "code",
      "execution_count": null,
      "id": "38961264",
      "metadata": {
        "id": "38961264",
        "outputId": "4fe75157-cacc-41ab-e809-c1891632f2ba"
      },
      "outputs": [
        {
          "name": "stdout",
          "output_type": "stream",
          "text": [
            "LightGBM rmsle 값: 0.456526857278931\n"
          ]
        }
      ],
      "source": [
        "from lightgbm import LGBMRegressor\n",
        "\n",
        "sparse_matrix_list = (X_descp, X_name, X_brand, X_item_cond_id,\n",
        "                      X_shipping, X_cat_dae, X_cat_jung, X_cat_so)\n",
        "\n",
        "lgbm_model = LGBMRegressor(n_estimators=200, learning_rate=0.5, num_leaves=125, random_state=156)\n",
        "lgbm_preds, y_test = model_train_predict(model=lgbm_model, matrix_list = sparse_matrix_list)\n",
        "print('LightGBM rmsle 값:', evaluate_org_price(y_test, lgbm_preds))"
      ]
    },
    {
      "cell_type": "code",
      "execution_count": null,
      "id": "a0ebaab8",
      "metadata": {
        "id": "a0ebaab8",
        "outputId": "948dbfea-d37b-4e27-eb59-f9a727ab5046"
      },
      "outputs": [
        {
          "name": "stdout",
          "output_type": "stream",
          "text": [
            "LightGBM과 Ridge를 ensemble한 최종 rmsle 값: 0.45049873328030526\n"
          ]
        }
      ],
      "source": [
        "preds = lgbm_preds * 0.45 + linear_preds * 0.55\n",
        "print('LightGBM과 Ridge를 ensemble한 최종 rmsle 값:', evaluate_org_price(y_test, preds))"
      ]
    },
    {
      "cell_type": "markdown",
      "id": "7c1ce41e",
      "metadata": {
        "id": "7c1ce41e"
      },
      "source": [
        "## 8.11 정리\n",
        "- 텍스트 정규화 작업: 피처 벡터화를 진행하기 이전에 수행하는 다양한 사전 작업\n",
        "- 텍스트 분류: 문서들 피처 벡터화 후 로지스틱 회귀 적용해 문서를 지도학습 방식으로 예츨 분류"
      ]
    }
  ],
  "metadata": {
    "kernelspec": {
      "display_name": "Python 3 (ipykernel)",
      "language": "python",
      "name": "python3"
    },
    "language_info": {
      "codemirror_mode": {
        "name": "ipython",
        "version": 3
      },
      "file_extension": ".py",
      "mimetype": "text/x-python",
      "name": "python",
      "nbconvert_exporter": "python",
      "pygments_lexer": "ipython3",
      "version": "3.9.13"
    },
    "colab": {
      "provenance": [],
      "include_colab_link": true
    }
  },
  "nbformat": 4,
  "nbformat_minor": 5
}
