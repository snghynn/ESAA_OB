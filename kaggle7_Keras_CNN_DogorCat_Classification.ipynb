{
  "nbformat": 4,
  "nbformat_minor": 0,
  "metadata": {
    "colab": {
      "provenance": [],
      "authorship_tag": "ABX9TyN434kvdUJMUHNjwh9PiaTH",
      "include_colab_link": true
    },
    "kernelspec": {
      "name": "python3",
      "display_name": "Python 3"
    },
    "language_info": {
      "name": "python"
    }
  },
  "cells": [
    {
      "cell_type": "markdown",
      "metadata": {
        "id": "view-in-github",
        "colab_type": "text"
      },
      "source": [
        "<a href=\"https://colab.research.google.com/github/snghynn/summ/blob/main/kaggle7_Keras_CNN_Dog_or_Cat_Classification.ipynb\" target=\"_parent\"><img src=\"https://colab.research.google.com/assets/colab-badge.svg\" alt=\"Open In Colab\"/></a>"
      ]
    },
    {
      "cell_type": "markdown",
      "source": [
        "# Keras CNN Dog or Cat Classification\n",
        "- CNN for classification model\n",
        "### 0. import library\n"
      ],
      "metadata": {
        "id": "4t_u-3bGyvqO"
      }
    },
    {
      "cell_type": "code",
      "execution_count": null,
      "metadata": {
        "id": "_UCfSG21yr8W"
      },
      "outputs": [],
      "source": [
        "import numpy as np\n",
        "import pandas as pd\n",
        "from keras.preprocessing.image import ImageDataGenerator, load_img\n",
        "from keras.utils import to_categorical\n",
        "from sklearn.model_selection import train_test_split\n",
        "import matplotlib.pyplot as plt\n",
        "import random\n",
        "import os"
      ]
    },
    {
      "cell_type": "code",
      "source": [
        "# Define Constants\n",
        "FAST_RUN = False\n",
        "IMAGE_WIDTH=128\n",
        "IMAGE_HEIGHT=128\n",
        "IMAGE_SIZE=(IMAGE_WIDTH, IMAGE_HEIGHT)\n",
        "IMAGE_CHANNELS=3"
      ],
      "metadata": {
        "id": "RWVrm5UCy948"
      },
      "execution_count": null,
      "outputs": []
    },
    {
      "cell_type": "markdown",
      "source": [
        "### 1. Prepare Training Data\n"
      ],
      "metadata": {
        "id": "boLMj2Q1zFaJ"
      }
    },
    {
      "cell_type": "code",
      "source": [
        "from google.colab import drive\n",
        "drive.mount('/content/drive')"
      ],
      "metadata": {
        "id": "4teBa55hhmSy",
        "colab": {
          "base_uri": "https://localhost:8080/"
        },
        "outputId": "6ef34359-052d-4c97-82b2-ff22bc8abaaf"
      },
      "execution_count": null,
      "outputs": [
        {
          "output_type": "stream",
          "name": "stdout",
          "text": [
            "Mounted at /content/drive\n"
          ]
        }
      ]
    },
    {
      "cell_type": "code",
      "source": [
        "filenames = os.listdir(\"/content/drive/MyDrive/ESAA 23-2/train\")\n",
        "categories = []\n",
        "for filename in filenames:\n",
        "    category = filename.split('.')[0]\n",
        "    if category == 'dog':\n",
        "        categories.append(1)\n",
        "    else:\n",
        "        categories.append(0)\n",
        "\n",
        "df = pd.DataFrame({\n",
        "    'filename': filenames,\n",
        "    'category': categories\n",
        "})"
      ],
      "metadata": {
        "id": "S0hkkeq5zZ1Z"
      },
      "execution_count": null,
      "outputs": []
    },
    {
      "cell_type": "code",
      "source": [
        "df.head()"
      ],
      "metadata": {
        "id": "SbYD7zQrzdVf",
        "colab": {
          "base_uri": "https://localhost:8080/",
          "height": 206
        },
        "outputId": "596e735a-cc3b-4f88-d18c-a2c4f978173b"
      },
      "execution_count": null,
      "outputs": [
        {
          "output_type": "execute_result",
          "data": {
            "text/plain": [
              "        filename  category\n",
              "0      cat.0.jpg         0\n",
              "1  cat.10023.jpg         0\n",
              "2  cat.10041.jpg         0\n",
              "3  cat.10018.jpg         0\n",
              "4  cat.10022.jpg         0"
            ],
            "text/html": [
              "\n",
              "  <div id=\"df-35b6aeff-d1f2-43bd-b81b-f7b1acd4519c\" class=\"colab-df-container\">\n",
              "    <div>\n",
              "<style scoped>\n",
              "    .dataframe tbody tr th:only-of-type {\n",
              "        vertical-align: middle;\n",
              "    }\n",
              "\n",
              "    .dataframe tbody tr th {\n",
              "        vertical-align: top;\n",
              "    }\n",
              "\n",
              "    .dataframe thead th {\n",
              "        text-align: right;\n",
              "    }\n",
              "</style>\n",
              "<table border=\"1\" class=\"dataframe\">\n",
              "  <thead>\n",
              "    <tr style=\"text-align: right;\">\n",
              "      <th></th>\n",
              "      <th>filename</th>\n",
              "      <th>category</th>\n",
              "    </tr>\n",
              "  </thead>\n",
              "  <tbody>\n",
              "    <tr>\n",
              "      <th>0</th>\n",
              "      <td>cat.0.jpg</td>\n",
              "      <td>0</td>\n",
              "    </tr>\n",
              "    <tr>\n",
              "      <th>1</th>\n",
              "      <td>cat.10023.jpg</td>\n",
              "      <td>0</td>\n",
              "    </tr>\n",
              "    <tr>\n",
              "      <th>2</th>\n",
              "      <td>cat.10041.jpg</td>\n",
              "      <td>0</td>\n",
              "    </tr>\n",
              "    <tr>\n",
              "      <th>3</th>\n",
              "      <td>cat.10018.jpg</td>\n",
              "      <td>0</td>\n",
              "    </tr>\n",
              "    <tr>\n",
              "      <th>4</th>\n",
              "      <td>cat.10022.jpg</td>\n",
              "      <td>0</td>\n",
              "    </tr>\n",
              "  </tbody>\n",
              "</table>\n",
              "</div>\n",
              "    <div class=\"colab-df-buttons\">\n",
              "\n",
              "  <div class=\"colab-df-container\">\n",
              "    <button class=\"colab-df-convert\" onclick=\"convertToInteractive('df-35b6aeff-d1f2-43bd-b81b-f7b1acd4519c')\"\n",
              "            title=\"Convert this dataframe to an interactive table.\"\n",
              "            style=\"display:none;\">\n",
              "\n",
              "  <svg xmlns=\"http://www.w3.org/2000/svg\" height=\"24px\" viewBox=\"0 -960 960 960\">\n",
              "    <path d=\"M120-120v-720h720v720H120Zm60-500h600v-160H180v160Zm220 220h160v-160H400v160Zm0 220h160v-160H400v160ZM180-400h160v-160H180v160Zm440 0h160v-160H620v160ZM180-180h160v-160H180v160Zm440 0h160v-160H620v160Z\"/>\n",
              "  </svg>\n",
              "    </button>\n",
              "\n",
              "  <style>\n",
              "    .colab-df-container {\n",
              "      display:flex;\n",
              "      gap: 12px;\n",
              "    }\n",
              "\n",
              "    .colab-df-convert {\n",
              "      background-color: #E8F0FE;\n",
              "      border: none;\n",
              "      border-radius: 50%;\n",
              "      cursor: pointer;\n",
              "      display: none;\n",
              "      fill: #1967D2;\n",
              "      height: 32px;\n",
              "      padding: 0 0 0 0;\n",
              "      width: 32px;\n",
              "    }\n",
              "\n",
              "    .colab-df-convert:hover {\n",
              "      background-color: #E2EBFA;\n",
              "      box-shadow: 0px 1px 2px rgba(60, 64, 67, 0.3), 0px 1px 3px 1px rgba(60, 64, 67, 0.15);\n",
              "      fill: #174EA6;\n",
              "    }\n",
              "\n",
              "    .colab-df-buttons div {\n",
              "      margin-bottom: 4px;\n",
              "    }\n",
              "\n",
              "    [theme=dark] .colab-df-convert {\n",
              "      background-color: #3B4455;\n",
              "      fill: #D2E3FC;\n",
              "    }\n",
              "\n",
              "    [theme=dark] .colab-df-convert:hover {\n",
              "      background-color: #434B5C;\n",
              "      box-shadow: 0px 1px 3px 1px rgba(0, 0, 0, 0.15);\n",
              "      filter: drop-shadow(0px 1px 2px rgba(0, 0, 0, 0.3));\n",
              "      fill: #FFFFFF;\n",
              "    }\n",
              "  </style>\n",
              "\n",
              "    <script>\n",
              "      const buttonEl =\n",
              "        document.querySelector('#df-35b6aeff-d1f2-43bd-b81b-f7b1acd4519c button.colab-df-convert');\n",
              "      buttonEl.style.display =\n",
              "        google.colab.kernel.accessAllowed ? 'block' : 'none';\n",
              "\n",
              "      async function convertToInteractive(key) {\n",
              "        const element = document.querySelector('#df-35b6aeff-d1f2-43bd-b81b-f7b1acd4519c');\n",
              "        const dataTable =\n",
              "          await google.colab.kernel.invokeFunction('convertToInteractive',\n",
              "                                                    [key], {});\n",
              "        if (!dataTable) return;\n",
              "\n",
              "        const docLinkHtml = 'Like what you see? Visit the ' +\n",
              "          '<a target=\"_blank\" href=https://colab.research.google.com/notebooks/data_table.ipynb>data table notebook</a>'\n",
              "          + ' to learn more about interactive tables.';\n",
              "        element.innerHTML = '';\n",
              "        dataTable['output_type'] = 'display_data';\n",
              "        await google.colab.output.renderOutput(dataTable, element);\n",
              "        const docLink = document.createElement('div');\n",
              "        docLink.innerHTML = docLinkHtml;\n",
              "        element.appendChild(docLink);\n",
              "      }\n",
              "    </script>\n",
              "  </div>\n",
              "\n",
              "\n",
              "<div id=\"df-b72ae59b-2ad2-40eb-9871-5f8bde47867f\">\n",
              "  <button class=\"colab-df-quickchart\" onclick=\"quickchart('df-b72ae59b-2ad2-40eb-9871-5f8bde47867f')\"\n",
              "            title=\"Suggest charts\"\n",
              "            style=\"display:none;\">\n",
              "\n",
              "<svg xmlns=\"http://www.w3.org/2000/svg\" height=\"24px\"viewBox=\"0 0 24 24\"\n",
              "     width=\"24px\">\n",
              "    <g>\n",
              "        <path d=\"M19 3H5c-1.1 0-2 .9-2 2v14c0 1.1.9 2 2 2h14c1.1 0 2-.9 2-2V5c0-1.1-.9-2-2-2zM9 17H7v-7h2v7zm4 0h-2V7h2v10zm4 0h-2v-4h2v4z\"/>\n",
              "    </g>\n",
              "</svg>\n",
              "  </button>\n",
              "\n",
              "<style>\n",
              "  .colab-df-quickchart {\n",
              "      --bg-color: #E8F0FE;\n",
              "      --fill-color: #1967D2;\n",
              "      --hover-bg-color: #E2EBFA;\n",
              "      --hover-fill-color: #174EA6;\n",
              "      --disabled-fill-color: #AAA;\n",
              "      --disabled-bg-color: #DDD;\n",
              "  }\n",
              "\n",
              "  [theme=dark] .colab-df-quickchart {\n",
              "      --bg-color: #3B4455;\n",
              "      --fill-color: #D2E3FC;\n",
              "      --hover-bg-color: #434B5C;\n",
              "      --hover-fill-color: #FFFFFF;\n",
              "      --disabled-bg-color: #3B4455;\n",
              "      --disabled-fill-color: #666;\n",
              "  }\n",
              "\n",
              "  .colab-df-quickchart {\n",
              "    background-color: var(--bg-color);\n",
              "    border: none;\n",
              "    border-radius: 50%;\n",
              "    cursor: pointer;\n",
              "    display: none;\n",
              "    fill: var(--fill-color);\n",
              "    height: 32px;\n",
              "    padding: 0;\n",
              "    width: 32px;\n",
              "  }\n",
              "\n",
              "  .colab-df-quickchart:hover {\n",
              "    background-color: var(--hover-bg-color);\n",
              "    box-shadow: 0 1px 2px rgba(60, 64, 67, 0.3), 0 1px 3px 1px rgba(60, 64, 67, 0.15);\n",
              "    fill: var(--button-hover-fill-color);\n",
              "  }\n",
              "\n",
              "  .colab-df-quickchart-complete:disabled,\n",
              "  .colab-df-quickchart-complete:disabled:hover {\n",
              "    background-color: var(--disabled-bg-color);\n",
              "    fill: var(--disabled-fill-color);\n",
              "    box-shadow: none;\n",
              "  }\n",
              "\n",
              "  .colab-df-spinner {\n",
              "    border: 2px solid var(--fill-color);\n",
              "    border-color: transparent;\n",
              "    border-bottom-color: var(--fill-color);\n",
              "    animation:\n",
              "      spin 1s steps(1) infinite;\n",
              "  }\n",
              "\n",
              "  @keyframes spin {\n",
              "    0% {\n",
              "      border-color: transparent;\n",
              "      border-bottom-color: var(--fill-color);\n",
              "      border-left-color: var(--fill-color);\n",
              "    }\n",
              "    20% {\n",
              "      border-color: transparent;\n",
              "      border-left-color: var(--fill-color);\n",
              "      border-top-color: var(--fill-color);\n",
              "    }\n",
              "    30% {\n",
              "      border-color: transparent;\n",
              "      border-left-color: var(--fill-color);\n",
              "      border-top-color: var(--fill-color);\n",
              "      border-right-color: var(--fill-color);\n",
              "    }\n",
              "    40% {\n",
              "      border-color: transparent;\n",
              "      border-right-color: var(--fill-color);\n",
              "      border-top-color: var(--fill-color);\n",
              "    }\n",
              "    60% {\n",
              "      border-color: transparent;\n",
              "      border-right-color: var(--fill-color);\n",
              "    }\n",
              "    80% {\n",
              "      border-color: transparent;\n",
              "      border-right-color: var(--fill-color);\n",
              "      border-bottom-color: var(--fill-color);\n",
              "    }\n",
              "    90% {\n",
              "      border-color: transparent;\n",
              "      border-bottom-color: var(--fill-color);\n",
              "    }\n",
              "  }\n",
              "</style>\n",
              "\n",
              "  <script>\n",
              "    async function quickchart(key) {\n",
              "      const quickchartButtonEl =\n",
              "        document.querySelector('#' + key + ' button');\n",
              "      quickchartButtonEl.disabled = true;  // To prevent multiple clicks.\n",
              "      quickchartButtonEl.classList.add('colab-df-spinner');\n",
              "      try {\n",
              "        const charts = await google.colab.kernel.invokeFunction(\n",
              "            'suggestCharts', [key], {});\n",
              "      } catch (error) {\n",
              "        console.error('Error during call to suggestCharts:', error);\n",
              "      }\n",
              "      quickchartButtonEl.classList.remove('colab-df-spinner');\n",
              "      quickchartButtonEl.classList.add('colab-df-quickchart-complete');\n",
              "    }\n",
              "    (() => {\n",
              "      let quickchartButtonEl =\n",
              "        document.querySelector('#df-b72ae59b-2ad2-40eb-9871-5f8bde47867f button');\n",
              "      quickchartButtonEl.style.display =\n",
              "        google.colab.kernel.accessAllowed ? 'block' : 'none';\n",
              "    })();\n",
              "  </script>\n",
              "</div>\n",
              "    </div>\n",
              "  </div>\n"
            ]
          },
          "metadata": {},
          "execution_count": 5
        }
      ]
    },
    {
      "cell_type": "code",
      "source": [
        "df.tail()"
      ],
      "metadata": {
        "id": "nGqVQZ6yzdSw",
        "colab": {
          "base_uri": "https://localhost:8080/",
          "height": 206
        },
        "outputId": "080185ed-aa22-48f1-ec96-de9c2e8d0ed7"
      },
      "execution_count": null,
      "outputs": [
        {
          "output_type": "execute_result",
          "data": {
            "text/plain": [
              "          filename  category\n",
              "365  cat.10325.jpg         0\n",
              "366  cat.10328.jpg         0\n",
              "367  cat.10329.jpg         0\n",
              "368  cat.10315.jpg         0\n",
              "369  cat.10323.jpg         0"
            ],
            "text/html": [
              "\n",
              "  <div id=\"df-e59bee03-8a16-4da5-918d-28bba36c07e8\" class=\"colab-df-container\">\n",
              "    <div>\n",
              "<style scoped>\n",
              "    .dataframe tbody tr th:only-of-type {\n",
              "        vertical-align: middle;\n",
              "    }\n",
              "\n",
              "    .dataframe tbody tr th {\n",
              "        vertical-align: top;\n",
              "    }\n",
              "\n",
              "    .dataframe thead th {\n",
              "        text-align: right;\n",
              "    }\n",
              "</style>\n",
              "<table border=\"1\" class=\"dataframe\">\n",
              "  <thead>\n",
              "    <tr style=\"text-align: right;\">\n",
              "      <th></th>\n",
              "      <th>filename</th>\n",
              "      <th>category</th>\n",
              "    </tr>\n",
              "  </thead>\n",
              "  <tbody>\n",
              "    <tr>\n",
              "      <th>365</th>\n",
              "      <td>cat.10325.jpg</td>\n",
              "      <td>0</td>\n",
              "    </tr>\n",
              "    <tr>\n",
              "      <th>366</th>\n",
              "      <td>cat.10328.jpg</td>\n",
              "      <td>0</td>\n",
              "    </tr>\n",
              "    <tr>\n",
              "      <th>367</th>\n",
              "      <td>cat.10329.jpg</td>\n",
              "      <td>0</td>\n",
              "    </tr>\n",
              "    <tr>\n",
              "      <th>368</th>\n",
              "      <td>cat.10315.jpg</td>\n",
              "      <td>0</td>\n",
              "    </tr>\n",
              "    <tr>\n",
              "      <th>369</th>\n",
              "      <td>cat.10323.jpg</td>\n",
              "      <td>0</td>\n",
              "    </tr>\n",
              "  </tbody>\n",
              "</table>\n",
              "</div>\n",
              "    <div class=\"colab-df-buttons\">\n",
              "\n",
              "  <div class=\"colab-df-container\">\n",
              "    <button class=\"colab-df-convert\" onclick=\"convertToInteractive('df-e59bee03-8a16-4da5-918d-28bba36c07e8')\"\n",
              "            title=\"Convert this dataframe to an interactive table.\"\n",
              "            style=\"display:none;\">\n",
              "\n",
              "  <svg xmlns=\"http://www.w3.org/2000/svg\" height=\"24px\" viewBox=\"0 -960 960 960\">\n",
              "    <path d=\"M120-120v-720h720v720H120Zm60-500h600v-160H180v160Zm220 220h160v-160H400v160Zm0 220h160v-160H400v160ZM180-400h160v-160H180v160Zm440 0h160v-160H620v160ZM180-180h160v-160H180v160Zm440 0h160v-160H620v160Z\"/>\n",
              "  </svg>\n",
              "    </button>\n",
              "\n",
              "  <style>\n",
              "    .colab-df-container {\n",
              "      display:flex;\n",
              "      gap: 12px;\n",
              "    }\n",
              "\n",
              "    .colab-df-convert {\n",
              "      background-color: #E8F0FE;\n",
              "      border: none;\n",
              "      border-radius: 50%;\n",
              "      cursor: pointer;\n",
              "      display: none;\n",
              "      fill: #1967D2;\n",
              "      height: 32px;\n",
              "      padding: 0 0 0 0;\n",
              "      width: 32px;\n",
              "    }\n",
              "\n",
              "    .colab-df-convert:hover {\n",
              "      background-color: #E2EBFA;\n",
              "      box-shadow: 0px 1px 2px rgba(60, 64, 67, 0.3), 0px 1px 3px 1px rgba(60, 64, 67, 0.15);\n",
              "      fill: #174EA6;\n",
              "    }\n",
              "\n",
              "    .colab-df-buttons div {\n",
              "      margin-bottom: 4px;\n",
              "    }\n",
              "\n",
              "    [theme=dark] .colab-df-convert {\n",
              "      background-color: #3B4455;\n",
              "      fill: #D2E3FC;\n",
              "    }\n",
              "\n",
              "    [theme=dark] .colab-df-convert:hover {\n",
              "      background-color: #434B5C;\n",
              "      box-shadow: 0px 1px 3px 1px rgba(0, 0, 0, 0.15);\n",
              "      filter: drop-shadow(0px 1px 2px rgba(0, 0, 0, 0.3));\n",
              "      fill: #FFFFFF;\n",
              "    }\n",
              "  </style>\n",
              "\n",
              "    <script>\n",
              "      const buttonEl =\n",
              "        document.querySelector('#df-e59bee03-8a16-4da5-918d-28bba36c07e8 button.colab-df-convert');\n",
              "      buttonEl.style.display =\n",
              "        google.colab.kernel.accessAllowed ? 'block' : 'none';\n",
              "\n",
              "      async function convertToInteractive(key) {\n",
              "        const element = document.querySelector('#df-e59bee03-8a16-4da5-918d-28bba36c07e8');\n",
              "        const dataTable =\n",
              "          await google.colab.kernel.invokeFunction('convertToInteractive',\n",
              "                                                    [key], {});\n",
              "        if (!dataTable) return;\n",
              "\n",
              "        const docLinkHtml = 'Like what you see? Visit the ' +\n",
              "          '<a target=\"_blank\" href=https://colab.research.google.com/notebooks/data_table.ipynb>data table notebook</a>'\n",
              "          + ' to learn more about interactive tables.';\n",
              "        element.innerHTML = '';\n",
              "        dataTable['output_type'] = 'display_data';\n",
              "        await google.colab.output.renderOutput(dataTable, element);\n",
              "        const docLink = document.createElement('div');\n",
              "        docLink.innerHTML = docLinkHtml;\n",
              "        element.appendChild(docLink);\n",
              "      }\n",
              "    </script>\n",
              "  </div>\n",
              "\n",
              "\n",
              "<div id=\"df-9884eaf1-5d34-4ee2-9b96-244a988361e9\">\n",
              "  <button class=\"colab-df-quickchart\" onclick=\"quickchart('df-9884eaf1-5d34-4ee2-9b96-244a988361e9')\"\n",
              "            title=\"Suggest charts\"\n",
              "            style=\"display:none;\">\n",
              "\n",
              "<svg xmlns=\"http://www.w3.org/2000/svg\" height=\"24px\"viewBox=\"0 0 24 24\"\n",
              "     width=\"24px\">\n",
              "    <g>\n",
              "        <path d=\"M19 3H5c-1.1 0-2 .9-2 2v14c0 1.1.9 2 2 2h14c1.1 0 2-.9 2-2V5c0-1.1-.9-2-2-2zM9 17H7v-7h2v7zm4 0h-2V7h2v10zm4 0h-2v-4h2v4z\"/>\n",
              "    </g>\n",
              "</svg>\n",
              "  </button>\n",
              "\n",
              "<style>\n",
              "  .colab-df-quickchart {\n",
              "      --bg-color: #E8F0FE;\n",
              "      --fill-color: #1967D2;\n",
              "      --hover-bg-color: #E2EBFA;\n",
              "      --hover-fill-color: #174EA6;\n",
              "      --disabled-fill-color: #AAA;\n",
              "      --disabled-bg-color: #DDD;\n",
              "  }\n",
              "\n",
              "  [theme=dark] .colab-df-quickchart {\n",
              "      --bg-color: #3B4455;\n",
              "      --fill-color: #D2E3FC;\n",
              "      --hover-bg-color: #434B5C;\n",
              "      --hover-fill-color: #FFFFFF;\n",
              "      --disabled-bg-color: #3B4455;\n",
              "      --disabled-fill-color: #666;\n",
              "  }\n",
              "\n",
              "  .colab-df-quickchart {\n",
              "    background-color: var(--bg-color);\n",
              "    border: none;\n",
              "    border-radius: 50%;\n",
              "    cursor: pointer;\n",
              "    display: none;\n",
              "    fill: var(--fill-color);\n",
              "    height: 32px;\n",
              "    padding: 0;\n",
              "    width: 32px;\n",
              "  }\n",
              "\n",
              "  .colab-df-quickchart:hover {\n",
              "    background-color: var(--hover-bg-color);\n",
              "    box-shadow: 0 1px 2px rgba(60, 64, 67, 0.3), 0 1px 3px 1px rgba(60, 64, 67, 0.15);\n",
              "    fill: var(--button-hover-fill-color);\n",
              "  }\n",
              "\n",
              "  .colab-df-quickchart-complete:disabled,\n",
              "  .colab-df-quickchart-complete:disabled:hover {\n",
              "    background-color: var(--disabled-bg-color);\n",
              "    fill: var(--disabled-fill-color);\n",
              "    box-shadow: none;\n",
              "  }\n",
              "\n",
              "  .colab-df-spinner {\n",
              "    border: 2px solid var(--fill-color);\n",
              "    border-color: transparent;\n",
              "    border-bottom-color: var(--fill-color);\n",
              "    animation:\n",
              "      spin 1s steps(1) infinite;\n",
              "  }\n",
              "\n",
              "  @keyframes spin {\n",
              "    0% {\n",
              "      border-color: transparent;\n",
              "      border-bottom-color: var(--fill-color);\n",
              "      border-left-color: var(--fill-color);\n",
              "    }\n",
              "    20% {\n",
              "      border-color: transparent;\n",
              "      border-left-color: var(--fill-color);\n",
              "      border-top-color: var(--fill-color);\n",
              "    }\n",
              "    30% {\n",
              "      border-color: transparent;\n",
              "      border-left-color: var(--fill-color);\n",
              "      border-top-color: var(--fill-color);\n",
              "      border-right-color: var(--fill-color);\n",
              "    }\n",
              "    40% {\n",
              "      border-color: transparent;\n",
              "      border-right-color: var(--fill-color);\n",
              "      border-top-color: var(--fill-color);\n",
              "    }\n",
              "    60% {\n",
              "      border-color: transparent;\n",
              "      border-right-color: var(--fill-color);\n",
              "    }\n",
              "    80% {\n",
              "      border-color: transparent;\n",
              "      border-right-color: var(--fill-color);\n",
              "      border-bottom-color: var(--fill-color);\n",
              "    }\n",
              "    90% {\n",
              "      border-color: transparent;\n",
              "      border-bottom-color: var(--fill-color);\n",
              "    }\n",
              "  }\n",
              "</style>\n",
              "\n",
              "  <script>\n",
              "    async function quickchart(key) {\n",
              "      const quickchartButtonEl =\n",
              "        document.querySelector('#' + key + ' button');\n",
              "      quickchartButtonEl.disabled = true;  // To prevent multiple clicks.\n",
              "      quickchartButtonEl.classList.add('colab-df-spinner');\n",
              "      try {\n",
              "        const charts = await google.colab.kernel.invokeFunction(\n",
              "            'suggestCharts', [key], {});\n",
              "      } catch (error) {\n",
              "        console.error('Error during call to suggestCharts:', error);\n",
              "      }\n",
              "      quickchartButtonEl.classList.remove('colab-df-spinner');\n",
              "      quickchartButtonEl.classList.add('colab-df-quickchart-complete');\n",
              "    }\n",
              "    (() => {\n",
              "      let quickchartButtonEl =\n",
              "        document.querySelector('#df-9884eaf1-5d34-4ee2-9b96-244a988361e9 button');\n",
              "      quickchartButtonEl.style.display =\n",
              "        google.colab.kernel.accessAllowed ? 'block' : 'none';\n",
              "    })();\n",
              "  </script>\n",
              "</div>\n",
              "    </div>\n",
              "  </div>\n"
            ]
          },
          "metadata": {},
          "execution_count": 6
        }
      ]
    },
    {
      "cell_type": "code",
      "source": [
        "# see total in count\n",
        "df['category'].value_counts().plot.bar()"
      ],
      "metadata": {
        "id": "_gNFK7wrzdQU",
        "colab": {
          "base_uri": "https://localhost:8080/",
          "height": 444
        },
        "outputId": "41d51533-5d17-4c82-9e8e-374cc7726c41"
      },
      "execution_count": null,
      "outputs": [
        {
          "output_type": "execute_result",
          "data": {
            "text/plain": [
              "<Axes: >"
            ]
          },
          "metadata": {},
          "execution_count": 7
        },
        {
          "output_type": "display_data",
          "data": {
            "text/plain": [
              "<Figure size 640x480 with 1 Axes>"
            ],
            "image/png": "[encoded data removed]"
          },
          "metadata": {}
        }
      ]
    },
    {
      "cell_type": "code",
      "source": [
        "# See sample image\n",
        "sample = random.choice(filenames)\n",
        "image = load_img(\"train/\"+sample)\n",
        "plt.imshow(image)"
      ],
      "metadata": {
        "id": "fR3woVuHzdNo"
      },
      "execution_count": null,
      "outputs": []
    },
    {
      "cell_type": "markdown",
      "source": [
        "### 2. Build Model\n",
        "\n",
        "![image.png](data:image/png;base64,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)"
      ],
      "metadata": {
        "id": "fHot0xRnzrK5"
      }
    },
    {
      "cell_type": "markdown",
      "source": [
        "- Input Layer\n",
        "  - represents input image data\n",
        "  - reshape image into single diminsion array\n",
        "  - Example your image is 64x64 = 4096, it will convert to (4096,1) array\n",
        "- Conv Layer\n",
        "  - extract features from image\n",
        "- Pooling Layer\n",
        "  - reduce the spatial volume of input image after convolution\n",
        "- Fully Connected Layer\n",
        "  - connects the network from a layer to another layer\n",
        "- Output Layer\n",
        "  - predicted values layer"
      ],
      "metadata": {
        "id": "ZlCD5EDwz3nA"
      }
    },
    {
      "cell_type": "code",
      "source": [
        "from keras.models import Sequential\n",
        "from keras.layers import Conv2D, MaxPooling2D, Dropout, Flatten, Dense, Activation, BatchNormalization\n",
        "\n",
        "model = Sequential()\n",
        "\n",
        "model.add(Conv2D(32, (3, 3), activation='relu', input_shape=(IMAGE_WIDTH, IMAGE_HEIGHT, IMAGE_CHANNELS)))\n",
        "model.add(BatchNormalization())\n",
        "model.add(MaxPooling2D(pool_size=(2, 2)))\n",
        "model.add(Dropout(0.25))\n",
        "\n",
        "model.add(Conv2D(64, (3, 3), activation='relu'))\n",
        "model.add(BatchNormalization())\n",
        "model.add(MaxPooling2D(pool_size=(2, 2)))\n",
        "model.add(Dropout(0.25))\n",
        "\n",
        "model.add(Conv2D(128, (3, 3), activation='relu'))\n",
        "model.add(BatchNormalization())\n",
        "model.add(MaxPooling2D(pool_size=(2, 2)))\n",
        "model.add(Dropout(0.25))\n",
        "\n",
        "model.add(Flatten())\n",
        "model.add(Dense(512, activation='relu'))\n",
        "model.add(BatchNormalization())\n",
        "model.add(Dropout(0.5))\n",
        "model.add(Dense(2, activation='softmax')) # 2 because we have cat and dog classes\n",
        "\n",
        "model.compile(loss='categorical_crossentropy', optimizer='rmsprop', metrics=['accuracy'])\n",
        "\n",
        "model.summary()"
      ],
      "metadata": {
        "id": "9icNjC9r0MxU"
      },
      "execution_count": null,
      "outputs": []
    },
    {
      "cell_type": "markdown",
      "source": [
        "### **< callbacks >**\n",
        "1) Early Stop: To prevent over fitting we will stop the learning after 10 epochs and val_loss value not decreased"
      ],
      "metadata": {
        "id": "Jd_KI_lH0YD6"
      }
    },
    {
      "cell_type": "code",
      "source": [
        "# Callbacks\n",
        "from keras.callbacks import EarlyStopping, ReduceLROnPlateau"
      ],
      "metadata": {
        "id": "urAKgET00TJq"
      },
      "execution_count": null,
      "outputs": []
    },
    {
      "cell_type": "markdown",
      "source": [
        "2) Learning Rate Reduction: reduce the learning rate when then accuracy not increase for 2 steps"
      ],
      "metadata": {
        "id": "fct0hcv00mrX"
      }
    },
    {
      "cell_type": "code",
      "source": [
        "learning_rate_reduction = ReduceLROnPlateau(monitor='val_acc',\n",
        "                                            patience=2,\n",
        "                                            verbose=1,\n",
        "                                            factor=0.5,\n",
        "                                            min_lr=0.00001)"
      ],
      "metadata": {
        "id": "T4CfXKXi0TFC"
      },
      "execution_count": null,
      "outputs": []
    },
    {
      "cell_type": "code",
      "source": [
        "callbacks = [earlystop, learning_rate_reduction]"
      ],
      "metadata": {
        "id": "atat9-AE0s9u"
      },
      "execution_count": null,
      "outputs": []
    },
    {
      "cell_type": "markdown",
      "source": [
        "### 3. Prepare data\n",
        "- image genaretor with class_mode=\"categorical\"\n",
        "- need to convert column category into string\n",
        "- imagenerator will convert it one-hot encoding\n",
        "- convert 1 to dog and 0 to cat"
      ],
      "metadata": {
        "id": "99AI6rWw0v-e"
      }
    },
    {
      "cell_type": "code",
      "source": [
        "df[\"category\"] = df[\"category\"].replace({0: 'cat', 1: 'dog'})"
      ],
      "metadata": {
        "id": "1zwE44EP1BYa"
      },
      "execution_count": null,
      "outputs": []
    },
    {
      "cell_type": "code",
      "source": [
        "train_df, validate_df = train_test_split(df, test_size=0.20, random_state=42)\n",
        "train_df = train_df.reset_index(drop=True)\n",
        "validate_df = validate_df.reset_index(drop=True)"
      ],
      "metadata": {
        "id": "GBiIJj0W1B8f"
      },
      "execution_count": null,
      "outputs": []
    },
    {
      "cell_type": "code",
      "source": [
        "train_df['category'].value_counts().plot.bar()"
      ],
      "metadata": {
        "id": "ny-EVKGR1B6D"
      },
      "execution_count": null,
      "outputs": []
    },
    {
      "cell_type": "code",
      "source": [
        "validate_df['category'].value_counts().plot.bar()"
      ],
      "metadata": {
        "id": "wPlKs2cV1B3h"
      },
      "execution_count": null,
      "outputs": []
    },
    {
      "cell_type": "code",
      "source": [
        "total_train = train_df.shape[0]\n",
        "total_validate = validate_df.shape[0]\n",
        "batch_size=15"
      ],
      "metadata": {
        "id": "eZoUM1kr1Fob"
      },
      "execution_count": null,
      "outputs": []
    },
    {
      "cell_type": "markdown",
      "source": [
        "### 4. Training Generator"
      ],
      "metadata": {
        "id": "j6Ak37QC1LXZ"
      }
    },
    {
      "cell_type": "code",
      "source": [
        "train_datagen = ImageDataGenerator(\n",
        "    rotation_range=15,\n",
        "    rescale=1./255,\n",
        "    shear_range=0.1,\n",
        "    zoom_range=0.2,\n",
        "    horizontal_flip=True,\n",
        "    width_shift_range=0.1,\n",
        "    height_shift_range=0.1\n",
        ")\n",
        "\n",
        "train_generator = train_datagen.flow_from_dataframe(\n",
        "    train_df,\n",
        "    \"train/\",\n",
        "    x_col='filename',\n",
        "    y_col='category',\n",
        "    target_size=IMAGE_SIZE,\n",
        "    class_mode='categorical',\n",
        "    batch_size=batch_size\n",
        ")"
      ],
      "metadata": {
        "id": "48Vugogq1Flv"
      },
      "execution_count": null,
      "outputs": []
    },
    {
      "cell_type": "markdown",
      "source": [
        "Validation Generator"
      ],
      "metadata": {
        "id": "mftt9rbl1THe"
      }
    },
    {
      "cell_type": "code",
      "source": [
        "alidation_datagen = ImageDataGenerator(rescale=1./255)\n",
        "validation_generator = validation_datagen.flow_from_dataframe(\n",
        "    validate_df,\n",
        "    \"train/\",\n",
        "    x_col='filename',\n",
        "    y_col='category',\n",
        "    target_size=IMAGE_SIZE,\n",
        "    class_mode='categorical',\n",
        "    batch_size=batch_size\n",
        ")"
      ],
      "metadata": {
        "id": "RS7fbMwd1FkK"
      },
      "execution_count": null,
      "outputs": []
    },
    {
      "cell_type": "code",
      "source": [
        "# See how our generator works\n",
        "example_df = train_df.sample(n=1).reset_index(drop=True)\n",
        "example_generator = train_datagen.flow_from_dataframe(\n",
        "    example_df,\n",
        "    \"train/\",\n",
        "    x_col='filename',\n",
        "    y_col='category',\n",
        "    target_size=IMAGE_SIZE,\n",
        "    class_mode='categorical'\n",
        ")"
      ],
      "metadata": {
        "id": "5QWnpOsN1FhP"
      },
      "execution_count": null,
      "outputs": []
    },
    {
      "cell_type": "markdown",
      "source": [
        "> Found 1 images belonging to 1 classes"
      ],
      "metadata": {
        "id": "LzkQkgNz1eFm"
      }
    },
    {
      "cell_type": "code",
      "source": [
        "plt.figure(figsize=(12, 12))\n",
        "for i in range(0, 15):\n",
        "    plt.subplot(5, 3, i+1)\n",
        "    for X_batch, Y_batch in example_generator:\n",
        "        image = X_batch[0]\n",
        "        plt.imshow(image)\n",
        "        break\n",
        "plt.tight_layout()\n",
        "plt.show()"
      ],
      "metadata": {
        "id": "FwSIPmgn1B1S"
      },
      "execution_count": null,
      "outputs": []
    },
    {
      "cell_type": "markdown",
      "source": [
        "### 5. Fit Model"
      ],
      "metadata": {
        "id": "yxL9yJJC1jsh"
      }
    },
    {
      "cell_type": "code",
      "source": [
        "epochs=3 if FAST_RUN else 50\n",
        "history = model.fit_generator(\n",
        "    train_generator,\n",
        "    epochs=epochs,\n",
        "    validation_data=validation_generator,\n",
        "    validation_steps=total_validate//batch_size,\n",
        "    steps_per_epoch=total_train//batch_size,\n",
        "    callbacks=callbacks\n",
        ")"
      ],
      "metadata": {
        "id": "rp9q-Cdo1gkf"
      },
      "execution_count": null,
      "outputs": []
    },
    {
      "cell_type": "code",
      "source": [
        "# Save Model\n",
        "model.save_weights(\"model.h5\")"
      ],
      "metadata": {
        "id": "GNqkOM841giK"
      },
      "execution_count": null,
      "outputs": []
    },
    {
      "cell_type": "code",
      "source": [
        "# Virtualize Training\n",
        "fig, (ax1, ax2) = plt.subplots(2, 1, figsize=(12, 12))\n",
        "ax1.plot(history.history['loss'], color='b', label=\"Training loss\")\n",
        "ax1.plot(history.history['val_loss'], color='r', label=\"validation loss\")\n",
        "ax1.set_xticks(np.arange(1, epochs, 1))\n",
        "ax1.set_yticks(np.arange(0, 1, 0.1))\n",
        "\n",
        "ax2.plot(history.history['acc'], color='b', label=\"Training accuracy\")\n",
        "ax2.plot(history.history['val_acc'], color='r',label=\"Validation accuracy\")\n",
        "ax2.set_xticks(np.arange(1, epochs, 1))\n",
        "\n",
        "legend = plt.legend(loc='best', shadow=True)\n",
        "plt.tight_layout()\n",
        "plt.show()"
      ],
      "metadata": {
        "id": "SqDAdLDA1gb-"
      },
      "execution_count": null,
      "outputs": []
    },
    {
      "cell_type": "markdown",
      "source": [
        "###6. Test model\n"
      ],
      "metadata": {
        "id": "BkJLiku019BJ"
      }
    },
    {
      "cell_type": "code",
      "source": [
        "# Prepare Testing Data\n",
        "test_filenames = os.listdir(\"test1\")\n",
        "test_df = pd.DataFrame({\n",
        "    'filename': test_filenames\n",
        "})\n",
        "nb_samples = test_df.shape[0]"
      ],
      "metadata": {
        "id": "yEQ6ZV7k1gZu"
      },
      "execution_count": null,
      "outputs": []
    },
    {
      "cell_type": "code",
      "source": [
        "# Create Testing Generator\n",
        "test_gen = ImageDataGenerator(rescale=1./255)\n",
        "test_generator = test_gen.flow_from_dataframe(\n",
        "    test_df,\n",
        "    \"test1/\",\n",
        "    x_col='filename',\n",
        "    y_col=None,\n",
        "    class_mode=None,\n",
        "    target_size=IMAGE_SIZE,\n",
        "    batch_size=batch_size,\n",
        "    shuffle=False\n",
        ")"
      ],
      "metadata": {
        "id": "wHL5PBKO2GUo"
      },
      "execution_count": null,
      "outputs": []
    },
    {
      "cell_type": "markdown",
      "source": [
        "> Found 12500 images"
      ],
      "metadata": {
        "id": "eXHvs21g2Kpv"
      }
    },
    {
      "cell_type": "code",
      "source": [
        "# Predict\n",
        "predict = model.predict_generator(test_generator, steps=np.ceil(nb_samples/batch_size))"
      ],
      "metadata": {
        "id": "R9TcNMp32N3O"
      },
      "execution_count": null,
      "outputs": []
    },
    {
      "cell_type": "markdown",
      "source": [
        "- prediction will come with probability of each category\n",
        "\n",
        "-> pick the category that have the highest probability with numpy average max"
      ],
      "metadata": {
        "id": "UJIx4Mn52Unv"
      }
    },
    {
      "cell_type": "code",
      "source": [
        "test_df['category'] = np.argmax(predict, axis=-1)"
      ],
      "metadata": {
        "id": "R6G65T1n2N0x"
      },
      "execution_count": null,
      "outputs": []
    },
    {
      "cell_type": "markdown",
      "source": [
        "- convert the predict category back into our generator classes by using train_generator.class_indices\n",
        "- classes that image generator map while converting data into computer vision"
      ],
      "metadata": {
        "id": "IP6nngeY2cFV"
      }
    },
    {
      "cell_type": "code",
      "source": [
        "label_map = dict((v,k) for k,v in train_generator.class_indices.items())\n",
        "test_df['category'] = test_df['category'].replace(label_map)"
      ],
      "metadata": {
        "id": "V4YWbSu22Nyj"
      },
      "execution_count": null,
      "outputs": []
    },
    {
      "cell_type": "markdown",
      "source": [
        " we will map the result back to dog is 1 and cat is 0"
      ],
      "metadata": {
        "id": "KJDseSvu2z-c"
      }
    },
    {
      "cell_type": "code",
      "source": [
        "test_df['category'] = test_df['category'].replace({ 'dog': 1, 'cat': 0 })"
      ],
      "metadata": {
        "id": "cKa0A9y82Nvq"
      },
      "execution_count": null,
      "outputs": []
    },
    {
      "cell_type": "code",
      "source": [
        "# Visualize the result\n",
        "test_df['category'].value_counts().plot.bar()"
      ],
      "metadata": {
        "id": "l0_xTiYe2NUY"
      },
      "execution_count": null,
      "outputs": []
    },
    {
      "cell_type": "code",
      "source": [
        "# See predicted result with images\n",
        "sample_test = test_df.head(18)\n",
        "sample_test.head()\n",
        "plt.figure(figsize=(12, 24))\n",
        "for index, row in sample_test.iterrows():\n",
        "    filename = row['filename']\n",
        "    category = row['category']\n",
        "    img = load_img(\"test1/\"+filename, target_size=IMAGE_SIZE)\n",
        "    plt.subplot(6, 3, index+1)\n",
        "    plt.imshow(img)\n",
        "    plt.xlabel(filename + '(' + \"{}\".format(category) + ')' )\n",
        "plt.tight_layout()\n",
        "plt.show()"
      ],
      "metadata": {
        "id": "KTBWeZVM27iT"
      },
      "execution_count": null,
      "outputs": []
    }
  ]
}
